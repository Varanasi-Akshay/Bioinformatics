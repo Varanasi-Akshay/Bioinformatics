{
 "cells": [
  {
   "cell_type": "markdown",
   "metadata": {},
   "source": [
    "# Class 23: Using regular expressions to analyze data\n",
    "**April 16, 2019**"
   ]
  },
  {
   "cell_type": "markdown",
   "metadata": {},
   "source": [
    "In this class, we will discuss a few more real-world scenarios of how we can use regular expressions to analyze data. We will work with the *E. coli* genome. As usual, we first download it:"
   ]
  },
  {
   "cell_type": "code",
   "execution_count": 1,
   "metadata": {},
   "outputs": [],
   "source": [
    "from Bio import Entrez\n",
    "Entrez.email = \"akshayvaranasi@utexas.edu\" # put your email here\n",
    "\n",
    "# Download E. coli K12 genome:\n",
    "download_handle = Entrez.efetch(db=\"nucleotide\", id=\"CP009685\", rettype=\"gb\", retmode=\"text\")\n",
    "data = download_handle.read()\n",
    "download_handle.close()\n",
    "\n",
    "# Store data into file \"Ecoli_K12.gb\":\n",
    "out_handle = open(\"Ecoli_K12.gb\", \"w\")\n",
    "out_handle.write(data)\n",
    "out_handle.close()"
   ]
  },
  {
   "cell_type": "markdown",
   "metadata": {},
   "source": [
    "Let's assume that we want to find *E. coli* genes that are enzymes. Enzymes can be identified because their name ends in \"ase\". The gene name is stored in the \"product\" feature qualifier of CDS features.\n",
    "\n",
    "We will write code that loops over all CDS features in the genome, find the protein-coding sequences (CDSs), and analyze their product feature. To analyze the name of the product,  we will use the following regular expression: `r\"ase($|\\s)\"`. Remember that the vertical line `|` indicates logical or. So this regular expression searches for two alternative patterns. The first pattern, `r\"ase$\"` looks for strings that end in `ase`. The second pattern, `r\"ase\\s\"` looks for strings that contain a word ending in `ase`. (Word ends are indicated by subsequent whitespace, which is matched by `\\s`.)\n",
    "\n",
    "Note that we will limit our search to the first 100 protein-coding sequences only, to make the code run more quickly."
   ]
  },
  {
   "cell_type": "code",
   "execution_count": 2,
   "metadata": {},
   "outputs": [
    {
     "name": "stdout",
     "output_type": "stream",
     "text": [
      "cellulose synthase\n",
      "cellulose synthase\n",
      "endo-1,4-D-glucanase\n",
      "cellulose synthase\n",
      "ketodeoxygluconokinase\n",
      "ketodeoxygluconokinase\n",
      "c-di-GMP phosphodiesterase\n",
      "trehalase\n",
      "cytochrome C peroxidase\n",
      "glutamate decarboxylase\n",
      "transposase\n",
      "arsenate reductase\n",
      "glutathione reductase\n",
      "ribosomal RNA large subunit methyltransferase J\n",
      "oligopeptidase A\n",
      "methyltransferase\n",
      "peptide ABC transporter permease\n",
      "nickel transporter permease NikC\n",
      "nickel transporter permease NikB\n",
      "ACP synthase\n",
      "permease\n",
      "zinc ABC transporter ATPase\n",
      "16S rRNA methyltransferase\n",
      "RNA polymerase factor sigma-32\n",
      "branched-chain amino acid transporter permease subunit LivH\n",
      "leucine/isoleucine/valine transporter permease subunit\n",
      "glycerol-3-phosphate transporter permease\n",
      "glycerophosphodiester phosphodiesterase\n",
      "gamma-glutamyltranspeptidase\n",
      "transposase\n",
      "transposase\n",
      "\n",
      "Total number of probable enzymes found: 31\n"
     ]
    }
   ],
   "source": [
    "import re\n",
    "from Bio import SeqIO\n",
    "\n",
    "# read in the E. coli genome from local storage\n",
    "in_handle = open(\"Ecoli_K12.gb\", \"r\")\n",
    "record = SeqIO.read(in_handle, \"genbank\")\n",
    "in_handle.close()\n",
    "\n",
    "max_i = 100 # number of protein-coding sequences we will analyze\n",
    "i = 0 # counter that will keep track of the number of CDSs found\n",
    "enzyme_count = 0 # number of enzymes found\n",
    "for feature in record.features:\n",
    "    if feature.type == 'CDS':\n",
    "        i += 1\n",
    "        \n",
    "        # we can only proceed if the CDS has a 'product' qualifier\n",
    "        if \"product\" in feature.qualifiers:\n",
    "            product = feature.qualifiers[\"product\"][0]\n",
    "            \n",
    "            # the heart of the matter. does the product string end in 'ase'\n",
    "            # or contain a word that ends in 'ase'?\n",
    "            match = re.search(r\"ase($|\\s)\", product)\n",
    "            if match:\n",
    "                # yes, we found something that looks like an enzyme\n",
    "                print(product)\n",
    "                enzyme_count += 1\n",
    "                            \n",
    "    # stop after max_i CDSs have been processed\n",
    "    if i >= max_i:\n",
    "        break\n",
    "\n",
    "print(\"\\nTotal number of probable enzymes found:\", enzyme_count)"
   ]
  },
  {
   "cell_type": "markdown",
   "metadata": {},
   "source": [
    "## Problems"
   ]
  },
  {
   "cell_type": "markdown",
   "metadata": {},
   "source": [
    "**Problem 1:**\n",
    "\n",
    "Find out if there are any products that contain the letters \"ase\" in the middle of a word. For example, the word \"based\" contains these letters but does not end in them.\n",
    "\n",
    "**Hint:** Set `max_i=5000` to search the entire genome."
   ]
  },
  {
   "cell_type": "code",
   "execution_count": 18,
   "metadata": {},
   "outputs": [
    {
     "name": "stdout",
     "output_type": "stream",
     "text": [
      "polynucleotide phosphorylase/polyadenylase\n",
      "bifunctional glutamine-synthetase adenylyltransferase/deadenyltransferase\n",
      "flap endonuclease-like protein\n",
      "hydrogenase-4 component G\n",
      "hydrogenase-4 F-S subunit\n",
      "bifunctional folylpolyglutamate synthase/ dihydrofolate synthase\n",
      "nicotinamidase/pyrazinamidase\n",
      "bifunctional beta-cystathionase/maltose regulon regulatory protein\n",
      "ethanol-active dehydrogenase/acetaldehyde-active reductase\n",
      "cob(I)alamin adenolsyltransferase/cobinamide ATP-dependent adenolsyltransferase\n",
      "hydrogenase-1 operon protein HyaF\n",
      "hydrogenase-1 operon protein HyaE\n",
      "pyruvate formate lyase-activating enzyme 1\n",
      "stationary phase/starvation inducible regulatory protein CspD\n",
      "pyruvate formate lyase-activating protein\n",
      "[citrate [pro-3S]-lyase] ligase\n",
      "S-adenosylmethionine:tRNA ribosyltransferase-isomerase\n",
      "bifunctional glycosyl transferase/transpeptidase\n",
      "RNA polymerase-binding transcription factor\n",
      "transposase, IS1 family protein\n",
      "biotin--[acetyl-CoA-carboxylase] synthetase\n",
      "bifunctional N-acetylglucosamine-1-phosphate uridyltransferase/glucosamine-1-phosphate acetyltransferase\n",
      "bifunctional phosphopantothenoylcysteine decarboxylase/phosphopantothenate synthase\n",
      "\n",
      "Total number of words with ase found: 23\n"
     ]
    }
   ],
   "source": [
    "import re\n",
    "from Bio import SeqIO\n",
    "\n",
    "# read in the E. coli genome from local storage\n",
    "in_handle = open(\"Ecoli_K12.gb\", \"r\")\n",
    "record = SeqIO.read(in_handle, \"genbank\")\n",
    "in_handle.close()\n",
    "\n",
    "max_i = 5000 # number of protein-coding sequences we will analyze\n",
    "i = 0 # counter that will keep track of the number of CDSs found\n",
    "enzyme_count = 0 # number of enzymes found\n",
    "for feature in record.features:\n",
    "    if feature.type == 'CDS':\n",
    "        i += 1\n",
    "        \n",
    "        # we can only proceed if the CDS has a 'product' qualifier\n",
    "        if \"product\" in feature.qualifiers:\n",
    "            product = feature.qualifiers[\"product\"][0]\n",
    "            \n",
    "            # the heart of the matter. does the product string have 'ase' in middle\n",
    "            # \n",
    "            match = re.search(r\"\\S+ase\\S+\", product)\n",
    "            if match:\n",
    "                # yes, we found something that looks like an enzyme\n",
    "                print(product)\n",
    "                enzyme_count += 1\n",
    "                            \n",
    "    # stop after max_i CDSs have been processed\n",
    "    if i >= max_i:\n",
    "        break\n",
    "\n",
    "print(\"\\nTotal number of words with ase found:\", enzyme_count)"
   ]
  },
  {
   "cell_type": "markdown",
   "metadata": {},
   "source": [
    "**Problem 2:**\n",
    "\n",
    "Find products whose description starts with the letters \"RNA\". Again search the entire genome."
   ]
  },
  {
   "cell_type": "code",
   "execution_count": 15,
   "metadata": {},
   "outputs": [
    {
     "name": "stdout",
     "output_type": "stream",
     "text": [
      "RNA polymerase factor sigma-32\n",
      "RNA ligase\n",
      "RNA 3'-terminal-phosphate cyclase\n",
      "RNA polymerase factor sigma-54\n",
      "RNA-binding protein YhbY\n",
      "RNA polymerase sigma factor RpoD\n",
      "RNA pyrophosphohydrolase\n",
      "RNA polymerase sigma factor RpoS\n",
      "RNA polymerase sigma factor RpoE\n",
      "RNA methyltransferase RsmF\n",
      "RNA polymerase-binding transcription factor\n",
      "RNA methyltransferase\n",
      "RNA 2'-phosphotransferase\n",
      "RNA polymerase sigma factor FecI\n",
      "RNA-binding protein Hfq\n",
      "\n",
      "Total number of probable enzymes found: 15\n"
     ]
    }
   ],
   "source": [
    "import re\n",
    "from Bio import SeqIO\n",
    "\n",
    "# read in the E. coli genome from local storage\n",
    "in_handle = open(\"Ecoli_K12.gb\", \"r\")\n",
    "record = SeqIO.read(in_handle, \"genbank\")\n",
    "in_handle.close()\n",
    "\n",
    "max_i = 5000 # number of protein-coding sequences we will analyze\n",
    "i = 0 # counter that will keep track of the number of CDSs found\n",
    "enzyme_count = 0 # number of enzymes found\n",
    "for feature in record.features:\n",
    "    if feature.type == 'CDS':\n",
    "        i += 1\n",
    "        \n",
    "        # we can only proceed if the CDS has a 'product' qualifier\n",
    "        if \"product\" in feature.qualifiers:\n",
    "            product = feature.qualifiers[\"product\"][0]\n",
    "            \n",
    "            # the heart of the matter. does the product string end in 'ase'\n",
    "            # or contain a word that ends in 'ase'?\n",
    "            match = re.search(r\"^RNA\", product)\n",
    "            if match:\n",
    "                # yes, we found something that looks like an enzyme\n",
    "                print(product)\n",
    "                enzyme_count += 1\n",
    "                            \n",
    "    # stop after max_i CDSs have been processed\n",
    "    if i >= max_i:\n",
    "        break\n",
    "\n",
    "print(\"\\nTotal number of probable enzymes found:\", enzyme_count)"
   ]
  },
  {
   "cell_type": "markdown",
   "metadata": {},
   "source": [
    "**Problem 3:**\n",
    "\n",
    "Transcriptional regulators can belong to different families. These families are generally listed in the `product` field, e.g. \"LysR family transcriptional regulator\" or \"AraC family transcriptional regulator\". Write a program that extracts the family name for each transcriptional regulator and then counts how many regulators for each family are found."
   ]
  },
  {
   "cell_type": "code",
   "execution_count": 30,
   "metadata": {},
   "outputs": [
    {
     "name": "stdout",
     "output_type": "stream",
     "text": [
      "\n",
      "Total number of transcriptional regulator found: 70\n",
      "LysR family transcriptional regulator : 20\n",
      "LuxR family transcriptional regulator : 7\n",
      "AraC family transcriptional regulator : 11\n",
      "ArsR family transcriptional regulator : 1\n",
      "Crp/Fnr family transcriptional regulator : 2\n",
      "Fis family transcriptional regulator : 2\n",
      "XRE family transcriptional regulator : 4\n",
      "LytTR family transcriptional regulator : 1\n",
      "IclR family transcriptional regulator : 3\n",
      "MerR family transcriptional regulator : 1\n",
      "GntR family transcriptional regulator : 8\n",
      "TetR family transcriptional regulator : 3\n",
      "LacI family transcriptional regulator : 1\n",
      "CysB family transcriptional regulator : 1\n",
      "AbrB family transcriptional regulator : 1\n",
      "NrdR family transcriptional regulator : 1\n",
      "TorR family transcriptional regulator : 1\n",
      "HxlR family transcriptional regulator : 1\n",
      "XylR family transcriptional regulator : 1\n"
     ]
    }
   ],
   "source": [
    "import re\n",
    "from Bio import SeqIO\n",
    "\n",
    "# read in the E. coli genome from local storage\n",
    "in_handle = open(\"Ecoli_K12.gb\", \"r\")\n",
    "record = SeqIO.read(in_handle, \"genbank\")\n",
    "in_handle.close()\n",
    "\n",
    "max_i = 5000 # number of protein-coding sequences we will analyze\n",
    "i = 0 # counter that will keep track of the number of CDSs found\n",
    "enzyme_count = 0 # number of enzymes found\n",
    "trans_reg = {}\n",
    "\n",
    "for feature in record.features:\n",
    "    if feature.type == 'CDS':\n",
    "        i += 1\n",
    "        \n",
    "        # we can only proceed if the CDS has a 'product' qualifier\n",
    "        if \"product\" in feature.qualifiers:\n",
    "            product = feature.qualifiers[\"product\"][0]\n",
    "            \n",
    "            # the heart of the matter. does the product string end in 'ase'\n",
    "            # or contain a word that ends in 'ase'?\n",
    "            match = re.search(r\"(.* family) transcriptional regulator\", product)\n",
    "            if match:\n",
    "                # yes, we found something that looks like an enzyme\n",
    "                #print(product)\n",
    "                if product in trans_reg:\n",
    "                    trans_reg[product]+=1\n",
    "                else:\n",
    "                    trans_reg[product]=1\n",
    "                enzyme_count += 1\n",
    "                            \n",
    "    # stop after max_i CDSs have been processed\n",
    "    if i >= max_i:\n",
    "        break\n",
    "\n",
    "print(\"\\nTotal number of transcriptional regulator found:\", enzyme_count)\n",
    "for i in trans_reg:\n",
    "    print(i,\":\",trans_reg[i])\n"
   ]
  },
  {
   "cell_type": "markdown",
   "metadata": {},
   "source": [
    "## If this was easy\n",
    "\n",
    "**Problem 4:**\n",
    "\n",
    "Write a function that takes a string holding a full name as input and that prints the first name as output. The function should be able to handle the following cases:\n",
    "- first last\n",
    "- first initial last\n",
    "- initial first last\n",
    "- last, first\n",
    "- last, first initial\n",
    "- last, initial first\n",
    "\n",
    "In all cases, the output should be \"first\". Assume that initials are given as one letter and a period.\n",
    "\n",
    "Hint: First separate the last name from first + initial, and then extract the first name from first + initial."
   ]
  },
  {
   "cell_type": "code",
   "execution_count": 13,
   "metadata": {},
   "outputs": [
    {
     "name": "stdout",
     "output_type": "stream",
     "text": [
      "Error: name doesn't match the expected pattern.\n"
     ]
    }
   ],
   "source": [
    "import re\n",
    "\n",
    "\n",
    "def extract_first_name(name):\n",
    "    # first extract the first name + initial\n",
    "    match = re.search(r\"\\S+,\\s(.+)\", name) # is the name given in the form \"last, ...\"?\n",
    "    \n",
    "    if match:\n",
    "        first_and_initial = match.group(1)\n",
    "        print(1)\n",
    "    else: # no, name is given in the form \"... last\"\n",
    "        match = re.search(r\"(.+)\\s\\S+\", name)\n",
    "        if match:\n",
    "            first_and_initial = match.group(1)\n",
    "            print(2)\n",
    "        else:\n",
    "            print(\"Error: name doesn't match the expected pattern.\")\n",
    "            return\n",
    "    match = re.search(r\"(\\S+)\\s\\S\\.\", first_and_initial) # is the name given as first + initial?\n",
    "    if match:\n",
    "        print(\"First name:\", match.group(1))\n",
    "        print(3)\n",
    "        return\n",
    "    match = re.search(r\"\\S\\.\\s(\\S+)\", first_and_initial) # is the name given as initial + first?\n",
    "    if match:\n",
    "        print(\"First name:\", match.group(1))\n",
    "        print(4)\n",
    "        return\n",
    "# no initial given\n",
    "    print(\"First name:\", first_and_initial)\n",
    "\n",
    "extract_first_name(\"John Smith\")\n",
    "extract_first_name(\"Miller, Jack\")\n",
    "extract_first_name(\"Susie R. Benner\")\n",
    "extract_first_name(\"Smith, April B.\")\n",
    "extract_first_name(\"Miller, R. Ben\")\n",
    "extract_first_name(\"A. Jane Doe\")\n",
    "extract_first_name(\"abcde\") # not a valid name, creates an error"
   ]
  }
 ],
 "metadata": {
  "kernelspec": {
   "display_name": "Python 3",
   "language": "python",
   "name": "python3"
  },
  "language_info": {
   "codemirror_mode": {
    "name": "ipython",
    "version": 3
   },
   "file_extension": ".py",
   "mimetype": "text/x-python",
   "name": "python",
   "nbconvert_exporter": "python",
   "pygments_lexer": "ipython3",
   "version": "3.6.5"
  }
 },
 "nbformat": 4,
 "nbformat_minor": 2
}
