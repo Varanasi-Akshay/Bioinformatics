{
 "cells": [
  {
   "cell_type": "markdown",
   "metadata": {},
   "source": [
    "# In-class worksheet 14\n",
    "\n",
    "**Mar 7, 2019**"
   ]
  },
  {
   "cell_type": "markdown",
   "metadata": {},
   "source": [
    "*Complete the following tasks in python. You may do them either from the ipython command line (qt-console) or by creating code chunks within this jupyter notebook.*"
   ]
  },
  {
   "cell_type": "markdown",
   "metadata": {},
   "source": [
    "## 1. Working with numbers\n",
    "\n",
    "Perform the following basic operations in python. Note that you will have to print your result with the function `print()` if you want to see the output in your ipython notebook.\n",
    "\n",
    "1. Add two numbers\n",
    "2. Multiply two numbers\n",
    "3. Assign a number to a variable and then print the variable\n",
    "4. Assign two numbers to two different variables, then assign the product of those two variables to a third. Print the third variable."
   ]
  },
  {
   "cell_type": "code",
   "execution_count": 2,
   "metadata": {},
   "outputs": [
    {
     "name": "stdout",
     "output_type": "stream",
     "text": [
      "8\n",
      "15\n"
     ]
    }
   ],
   "source": [
    "# Your solutions go here. Create a separate code chunk for each question\n",
    "# using the + icon in the toolbar.\n",
    "a=3\n",
    "b=5\n",
    "c= a+b\n",
    "print(c)\n",
    "d = a*b\n",
    "print(d)\n"
   ]
  },
  {
   "cell_type": "markdown",
   "metadata": {},
   "source": [
    "## 2. Working with strings\n",
    "\n",
    "Define a variable called `mystring`, which contains a lengthy string of some kind (random letters, your address, song lyrics, a haiku, whatever). Perform the following tasks with this variable:\n",
    "\n",
    "1. Print the contents of your variable.\n",
    "2. Create a new variable called `complete_string` which contains the phrase \"Here is my string: \" followed by the contents of your `mystring` variable. (Hint - use the `+` operator). For example, if your `mystring` variable contains the text \"Time flies like an arrow; fruit flies like a banana.\", then `complete_string` should read, \"Here is my string: Time flies like an arrow; fruit flies like a banana.\"\n",
    "3. Use indexing to select the first letter of your string, the first five letters, or the last seven letters.\n",
    "4. Attempt to use indexing to replace the character in the 5th position of `mystring` with the letter \"X\". How did that go?\n",
    "5. Use the `.split()` method to split your string into a list.\n",
    "6. In your variable `mystring`, replace the all occurrences of a letter of your choice with a number. Which string method can achieve this goal?"
   ]
  },
  {
   "cell_type": "code",
   "execution_count": 18,
   "metadata": {},
   "outputs": [
    {
     "name": "stdout",
     "output_type": "stream",
     "text": [
      "sffgfgfs\n",
      "Here is my string: sffgfgfs\n",
      "s sffgf ffgfgfs\n",
      "sffgfgfs\n",
      "['Here', 'is', 'my', 'string:', 'sffgfgfs']\n",
      "sffHfgfs\n"
     ]
    }
   ],
   "source": [
    "# Your solutions go here. Create a separate code chunk for each question\n",
    "# using the + icon in the toolbar.\n",
    "\n",
    "mystring= 'sffgfgfs'\n",
    "print(mystring)\n",
    "complete_string = 'Here is my string: '\n",
    "new_string = complete_string + mystring\n",
    "print(new_string)\n",
    "print(mystring[0],mystring[:5],mystring[-7:])\n",
    "#mystring[4]='H'\n",
    "#mystring=str.replace(mystring[4],'H')\n",
    "print(mystring)\n",
    "stlist=new_string.split()\n",
    "print(stlist)\n",
    "mystring=mystring[0:3]+'H'+ mystring[4:]\n",
    "#mystring=str.replace(mystring,mystring[4],'H')\n",
    "print(mystring)"
   ]
  },
  {
   "cell_type": "markdown",
   "metadata": {},
   "source": [
    "## 3. Working with lists\n",
    "\n",
    "Define a list variable called `animals` which contains the following six entries: \"monkey\", \"giraffe\", \"shark\", \"caterpillar\", \"squid\", and \"jellyfish\". Perform the following tasks with this variable:\n",
    "\n",
    "1. Select the first animal in the list.\n",
    "2. Select the middle two animals (numbers 3 and 4) in the list.\n",
    "3. Select the last animal in the list.\n",
    "4. Use indexing to change the second animal in the list to \"cat\". \n",
    "5. Use the list method `.append()` to add \"spider\" to the end of the list.\n",
    "6. Use the operator `in` to determine if \"dog\" is in the `animals` list. Also try with \"monkey\".\n",
    "7. Use the `.join()` method to create a string which contains each animal in the `animals` list separated by the string \"; \" (semicolon and a space). Read the documentation of `.join()` or google it to solve this problem. Hint: `.join()` is a string function that takes a list as its argument."
   ]
  },
  {
   "cell_type": "code",
   "execution_count": 3,
   "metadata": {},
   "outputs": [],
   "source": [
    "# Your solutions go here. Create a separate code chunk for each question\n",
    "# using the + icon in the toolbar."
   ]
  },
  {
   "cell_type": "code",
   "execution_count": 2,
   "metadata": {},
   "outputs": [
    {
     "data": {
      "text/plain": [
       "'monkey'"
      ]
     },
     "execution_count": 2,
     "metadata": {},
     "output_type": "execute_result"
    }
   ],
   "source": [
    "animals=[\"monkey\", \"giraffe\", \"shark\", \"caterpillar\", \"squid\", \"jellyfish\"]\n",
    "animals[0]"
   ]
  },
  {
   "cell_type": "code",
   "execution_count": 4,
   "metadata": {},
   "outputs": [
    {
     "data": {
      "text/plain": [
       "['shark', 'caterpillar']"
      ]
     },
     "execution_count": 4,
     "metadata": {},
     "output_type": "execute_result"
    }
   ],
   "source": [
    "animals[2:4]\n"
   ]
  },
  {
   "cell_type": "code",
   "execution_count": 5,
   "metadata": {},
   "outputs": [
    {
     "data": {
      "text/plain": [
       "'jellyfish'"
      ]
     },
     "execution_count": 5,
     "metadata": {},
     "output_type": "execute_result"
    }
   ],
   "source": [
    "animals[-1]"
   ]
  },
  {
   "cell_type": "code",
   "execution_count": 8,
   "metadata": {},
   "outputs": [
    {
     "name": "stdout",
     "output_type": "stream",
     "text": [
      "['monkey', 'cat', 'shark', 'caterpillar', 'squid', 'jellyfish', 'spider']\n"
     ]
    }
   ],
   "source": [
    "animals[1] =\"cat\"\n",
    "print(animals)"
   ]
  },
  {
   "cell_type": "code",
   "execution_count": 9,
   "metadata": {},
   "outputs": [
    {
     "name": "stdout",
     "output_type": "stream",
     "text": [
      "['monkey', 'cat', 'shark', 'caterpillar', 'squid', 'jellyfish', 'spider', 'spider']\n"
     ]
    }
   ],
   "source": [
    "animals.append(\"spider\")\n",
    "print(animals)"
   ]
  },
  {
   "cell_type": "code",
   "execution_count": 10,
   "metadata": {},
   "outputs": [
    {
     "data": {
      "text/plain": [
       "False"
      ]
     },
     "execution_count": 10,
     "metadata": {},
     "output_type": "execute_result"
    }
   ],
   "source": [
    "\"dog\" in animals"
   ]
  },
  {
   "cell_type": "code",
   "execution_count": 18,
   "metadata": {},
   "outputs": [
    {
     "data": {
      "text/plain": [
       "True"
      ]
     },
     "execution_count": 18,
     "metadata": {},
     "output_type": "execute_result"
    }
   ],
   "source": [
    "\"monkey\" in animals"
   ]
  },
  {
   "cell_type": "code",
   "execution_count": 19,
   "metadata": {},
   "outputs": [
    {
     "data": {
      "text/plain": [
       "'monkey; cat; shark; caterpillar; squid; jellyfish; spider; spider'"
      ]
     },
     "execution_count": 19,
     "metadata": {},
     "output_type": "execute_result"
    }
   ],
   "source": [
    "\"; \".join(animals)"
   ]
  },
  {
   "cell_type": "markdown",
   "metadata": {},
   "source": [
    "## 4. Working with dictionaries\n",
    "\n",
    "Create a dictionary called `molecules` with the following three key-value pairs: \"hair\" -\"keratin\"; \"DNA\" - \"nucleotides\"; \"protein\" - \"amino acids\". Perform the following tasks with this variable:\n",
    " \n",
    "1. Print out the dictionary and examine the order of the key-value pairs. Is this what you expected?\n",
    "2. Try to use indexing to select the second key-value pair from the dictionary. Does this work? Now try to index the value for \"DNA\".\n",
    "3. Add another key-value pair, \"ribosomes\"-\"RNA\", to the `molecules` dictionary. Then, add another key-value pair, \"RNA\" - \"nucleotides\". Did this work? What does this tell you about the allowed uniqueness for dictionary keys and values?\n",
    "4. Now, add yet another key-value pair, \"ribosomes\"-\"rRNA\" to the `molecules` dictionary. What happened? Can you see why? \n",
    "5. Print out just the keys and just the values of the dictionary, using the dictionary methods `.keys()` and `.values()`.\n",
    "6. Create a list of *tuples*, which in each tuple is the (key, value) pair. Use the `zip()` function for this. (You may need to look up this function). Save this list of tuples to a variable. Then re-cast the list of tuples back into a dictionary."
   ]
  },
  {
   "cell_type": "code",
   "execution_count": 20,
   "metadata": {},
   "outputs": [
    {
     "name": "stdout",
     "output_type": "stream",
     "text": [
      "{'hair': 'keratin', 'DNA': 'nucleotides', 'protein': 'amino acids'}\n"
     ]
    }
   ],
   "source": [
    "# Your solutions go here. Create a separate code chunk for each question\n",
    "# using the + icon in the toolbar.\n",
    "molecules={\"hair\" :\"keratin\", \"DNA\":\"nucleotides\", \"protein\":\"amino acids\"}\n",
    "print(molecules)"
   ]
  },
  {
   "cell_type": "code",
   "execution_count": 25,
   "metadata": {},
   "outputs": [],
   "source": [
    "#molecules[1] ## Does not work"
   ]
  },
  {
   "cell_type": "code",
   "execution_count": 22,
   "metadata": {},
   "outputs": [
    {
     "data": {
      "text/plain": [
       "'nucleotides'"
      ]
     },
     "execution_count": 22,
     "metadata": {},
     "output_type": "execute_result"
    }
   ],
   "source": [
    "molecules['DNA']"
   ]
  },
  {
   "cell_type": "code",
   "execution_count": 23,
   "metadata": {},
   "outputs": [
    {
     "name": "stdout",
     "output_type": "stream",
     "text": [
      "{'hair': 'keratin', 'DNA': 'nucleotides', 'protein': 'amino acids', 'ribosomes': 'RNA'}\n"
     ]
    }
   ],
   "source": [
    "molecules[\"ribosomes\"] = \"RNA\" # this adds a new key \"ribosomes\"\n",
    "print(molecules)"
   ]
  },
  {
   "cell_type": "code",
   "execution_count": 24,
   "metadata": {},
   "outputs": [
    {
     "name": "stdout",
     "output_type": "stream",
     "text": [
      "{'hair': 'keratin', 'DNA': 'nucleotides', 'protein': 'amino acids', 'ribosomes': 'RNA', 'RNA': 'nucleotides'}\n"
     ]
    }
   ],
   "source": [
    "molecules[\"RNA\"] = \"nucleotides\" # this adds a new key \"ribosomes\"\n",
    "print(molecules)"
   ]
  },
  {
   "cell_type": "code",
   "execution_count": 26,
   "metadata": {},
   "outputs": [
    {
     "name": "stdout",
     "output_type": "stream",
     "text": [
      "{'hair': 'keratin', 'DNA': 'nucleotides', 'protein': 'amino acids', 'ribosomes': 'rRNA', 'RNA': 'nucleotides'}\n"
     ]
    }
   ],
   "source": [
    "molecules[\"ribosomes\"] = \"rRNA\"\n",
    "print(molecules)"
   ]
  },
  {
   "cell_type": "code",
   "execution_count": 27,
   "metadata": {},
   "outputs": [
    {
     "name": "stdout",
     "output_type": "stream",
     "text": [
      "dict_keys(['hair', 'DNA', 'protein', 'ribosomes', 'RNA'])\n",
      "dict_values(['keratin', 'nucleotides', 'amino acids', 'rRNA', 'nucleotides'])\n"
     ]
    }
   ],
   "source": [
    "print(molecules.keys())\n",
    "print(molecules.values())"
   ]
  },
  {
   "cell_type": "code",
   "execution_count": 29,
   "metadata": {},
   "outputs": [
    {
     "name": "stdout",
     "output_type": "stream",
     "text": [
      "[('hair', 'keratin'), ('DNA', 'nucleotides'), ('protein', 'amino acids'), ('ribosomes', 'rRNA'), ('RNA', 'nucleotides')]\n"
     ]
    },
    {
     "data": {
      "text/plain": [
       "{'hair': 'keratin',\n",
       " 'DNA': 'nucleotides',\n",
       " 'protein': 'amino acids',\n",
       " 'ribosomes': 'rRNA',\n",
       " 'RNA': 'nucleotides'}"
      ]
     },
     "execution_count": 29,
     "metadata": {},
     "output_type": "execute_result"
    }
   ],
   "source": [
    "keys_values = list(zip(molecules.keys(), molecules.values()))\n",
    "print(keys_values)\n",
    "dict(keys_values)"
   ]
  },
  {
   "cell_type": "code",
   "execution_count": null,
   "metadata": {},
   "outputs": [],
   "source": []
  }
 ],
 "metadata": {
  "kernelspec": {
   "display_name": "Python 3",
   "language": "python",
   "name": "python3"
  },
  "language_info": {
   "codemirror_mode": {
    "name": "ipython",
    "version": 3
   },
   "file_extension": ".py",
   "mimetype": "text/x-python",
   "name": "python",
   "nbconvert_exporter": "python",
   "pygments_lexer": "ipython3",
   "version": "3.6.5"
  }
 },
 "nbformat": 4,
 "nbformat_minor": 2
}
