{
 "cells": [
  {
   "cell_type": "markdown",
   "metadata": {},
   "source": [
    "# Class 20: Working with gene features and genomes\n",
    "**Apr 4, 2019**\n",
    "\n",
    "## Features in genbank files\n",
    "\n",
    "Many important pieces of information in genbank files are stored in features. These features can be queried through Biopython by working with the `features` list of a genbank record object (`record.features`). More information about  sequence features is available [here.](http://biopython.org/DIST/docs/tutorial/Tutorial.html#htoc38) We will usually iterate over all features in the list with a `for` loop:"
   ]
  },
  {
   "cell_type": "code",
   "execution_count": 1,
   "metadata": {},
   "outputs": [
    {
     "name": "stdout",
     "output_type": "stream",
     "text": [
      "type: source\n",
      "location: [0:1701](+)\n",
      "qualifiers:\n",
      "    Key: collection_date, Value: ['17-Jan-2015']\n",
      "    Key: country, Value: ['USA: New Jersey']\n",
      "    Key: db_xref, Value: ['taxon:1682360']\n",
      "    Key: host, Value: ['Homo sapiens']\n",
      "    Key: isolation_source, Value: ['nasopharyngeal swab']\n",
      "    Key: lab_host, Value: ['MDCK']\n",
      "    Key: mol_type, Value: ['viral cRNA']\n",
      "    Key: organism, Value: ['Influenza A virus (A/New Jersey/NHRC_93219/2015(H3N2))']\n",
      "    Key: segment, Value: ['4']\n",
      "    Key: serotype, Value: ['H3N2']\n",
      "    Key: strain, Value: ['A/NewJersey/NHRC_93219/2015']\n",
      "\n",
      "type: gene\n",
      "location: [0:1701](+)\n",
      "qualifiers:\n",
      "    Key: gene, Value: ['HA']\n",
      "\n",
      "type: CDS\n",
      "location: [0:1701](+)\n",
      "qualifiers:\n",
      "    Key: codon_start, Value: ['1']\n",
      "    Key: function, Value: ['receptor binding and fusion protein']\n",
      "    Key: gene, Value: ['HA']\n",
      "    Key: product, Value: ['hemagglutinin']\n",
      "    Key: protein_id, Value: ['AKQ43545.1']\n",
      "    Key: translation, Value: ['MKTIIALSYILCLVFAQKIPGNDNSTATLCLGHHAVPNGTIVKTITNDRIEVTNATELVQNSSIGEICDSPHQILDGENCTLIDALLGDPQCDGFQNKKWDLFVERSKAYSNCYPYDVPDYASLRSLVASSGTLEFNNESFNWTGVTQNGTSSACIRRSSSSFFSRLNWLTHLNYTYPALNVTMPNNEQFDKLYIWGVHHPGTDKDQIFLYAQSSGRITVSTKRSQQAVIPNIGSRPRIRDIPSRISIYWTIVKPGDILLINSTGNLIAPRGYFKIRSGKSSIMRSDAPIGKCKSECITPNGSIPNDKPFQNVNRITYGACPRYVKHSTLKLATGMRNVPEKQTRGIFGAIAGFIENGWEGMVDGWYGFRHQNSEGRGQAADLKSTQAAIDQINGKLNRLIGKTNEKFHQIEKEFSEVEGRIQDLEKYVEDTKIDLWSYNAELLVALENQHTXDLTDSEMNKLFEKTKKQLRENAEDMGNGCFKIYHKCDNACIGSIRNGTYDHNVYRDEALNNRFQIKGVELKSGYKDWILWISXAISCFLLCVALLGFIMWACQKGNIRCNICI']\n",
      "\n",
      "type: mat_peptide\n",
      "location: [48:1035](+)\n",
      "qualifiers:\n",
      "    Key: gene, Value: ['HA']\n",
      "    Key: product, Value: ['HA1']\n",
      "\n",
      "type: mat_peptide\n",
      "location: [1035:1698](+)\n",
      "qualifiers:\n",
      "    Key: gene, Value: ['HA']\n",
      "    Key: product, Value: ['HA2']\n",
      "\n"
     ]
    }
   ],
   "source": [
    "from Bio import Entrez, SeqIO\n",
    "Entrez.email = \"akshayvaranasi@utexas.edu\" # put your email here\n",
    "\n",
    "# Download sequence record for genbank id KT220438\n",
    "# This is HA gene of Influenza A virus, strain A/NewJersey/NHRC_93219/2015(H3N2)\n",
    "handle = Entrez.efetch(db=\"nucleotide\", id=\"KT220438\", rettype=\"gb\", retmode=\"text\")\n",
    "record = SeqIO.read(handle, \"genbank\")\n",
    "handle.close()\n",
    "\n",
    "# Loop over all features in the record to see\n",
    "# what features there are and what information\n",
    "# they contain\n",
    "for feature in record.features:\n",
    "    print(feature)"
   ]
  },
  {
   "cell_type": "markdown",
   "metadata": {},
   "source": [
    "The type of each feature is stored in `feature.type`, and its location on the DNA sequence is stored in `feature.location`. The additional feature information is stored in a dictionary called `qualifiers`. We can query this dictionary to retrieve individual elements of a feature. Note that these elements are all stored as lists, and so we generally have to add `[0]` at the end of our query to retrieve the first element in the list."
   ]
  },
  {
   "cell_type": "code",
   "execution_count": 2,
   "metadata": {},
   "outputs": [
    {
     "name": "stdout",
     "output_type": "stream",
     "text": [
      "Coding sequence found at position: [0:1701](+)\n",
      "Gene product: hemagglutinin\n",
      "Protein ID: AKQ43545.1\n",
      "Protein sequence: MKTIIALSYILCLVFAQKIPGNDNSTATLCLGHHAVPNGTIVKTITNDRIEVTNATELVQNSSIGEICDSPHQILDGENCTLIDALLGDPQCDGFQNKKWDLFVERSKAYSNCYPYDVPDYASLRSLVASSGTLEFNNESFNWTGVTQNGTSSACIRRSSSSFFSRLNWLTHLNYTYPALNVTMPNNEQFDKLYIWGVHHPGTDKDQIFLYAQSSGRITVSTKRSQQAVIPNIGSRPRIRDIPSRISIYWTIVKPGDILLINSTGNLIAPRGYFKIRSGKSSIMRSDAPIGKCKSECITPNGSIPNDKPFQNVNRITYGACPRYVKHSTLKLATGMRNVPEKQTRGIFGAIAGFIENGWEGMVDGWYGFRHQNSEGRGQAADLKSTQAAIDQINGKLNRLIGKTNEKFHQIEKEFSEVEGRIQDLEKYVEDTKIDLWSYNAELLVALENQHTXDLTDSEMNKLFEKTKKQLRENAEDMGNGCFKIYHKCDNACIGSIRNGTYDHNVYRDEALNNRFQIKGVELKSGYKDWILWISXAISCFLLCVALLGFIMWACQKGNIRCNICI\n"
     ]
    }
   ],
   "source": [
    "for feature in record.features:\n",
    "    if feature.type == \"CDS\":\n",
    "        print(\"Coding sequence found at position:\", feature.location)\n",
    "        print(\"Gene product:\", feature.qualifiers[\"product\"][0])\n",
    "        print(\"Protein ID:\", feature.qualifiers[\"protein_id\"][0])\n",
    "        print(\"Protein sequence:\", feature.qualifiers[\"translation\"][0])"
   ]
  },
  {
   "cell_type": "markdown",
   "metadata": {},
   "source": [
    "## Problems"
   ]
  },
  {
   "cell_type": "markdown",
   "metadata": {},
   "source": [
    "**Problem 1:**\n",
    "\n",
    "When we are working with larger genbank files (e.g. entire genomes), we generally first download them and store them as a file on our local drive. Then we work with those local files. To practice this workflow, write code that downloads the complete genome of bacteriophage T7 and stores it in a file called `T7.gb`. The accession number for that genome is NC_001604. Make sure you can find the file you have created on your harddrive. Also verify that the file contains the same genome you can see on the NCBI website."
   ]
  },
  {
   "cell_type": "code",
   "execution_count": 3,
   "metadata": {},
   "outputs": [
    {
     "name": "stdout",
     "output_type": "stream",
     "text": [
      "ID: NC_001604.1\n",
      "Name: NC_001604\n",
      "Description: Enterobacteria phage T7, complete genome\n",
      "Database cross-references: BioProject:PRJNA485481\n",
      "Number of features: 162\n",
      "/molecule_type=DNA\n",
      "/topology=linear\n",
      "/data_file_division=PHG\n",
      "/date=13-AUG-2018\n",
      "/accessions=['NC_001604']\n",
      "/sequence_version=1\n",
      "/keywords=['RefSeq', 'capsid', 'dGTPase', 'DNA ligase', 'DNA polymerase', 'E. coli', 'E. coli RNA polymerase', 'EcoB', 'EcoK', 'endonuclease', 'exonuclease', 'F plasmid', 'H-NS protein', 'head-tail connector', 'helicase', 'internal virion', 'lysozyme', 'primase', 'promoter', 'protein', 'protein kinase', 'recBCD nuclease', 'RNase III site', 'scaffolding protein', 'single-stranded DNA binding protein', 'T7 RNA polymerase', 'tail', 'tail fiber', 'terminase', 'transcription terminator']\n",
      "/source=Enterobacteria phage T7 (T7)\n",
      "/organism=Enterobacteria phage T7\n",
      "/taxonomy=['Viruses', 'dsDNA viruses, no RNA stage', 'Caudovirales', 'Podoviridae', 'Autographivirinae', 'T7virus']\n",
      "/references=[Reference(title='The structure of bacteriophage T7 lysozyme, a zinc amidase and an inhibitor of T7 RNA polymerase', ...), Reference(title='Gene 5.5 protein of bacteriophage T7 inhibits the nucleoid protein H-NS of Escherichia coli', ...), Reference(title='Roles of bacteriophage T7 gene 4 proteins in providing primase and helicase functions in vivo', ...), Reference(title='Cloning and expression of gene 4 of bacteriophage T7 and creation and analysis of T7 mutants lacking the 4A primase/helicase or the 4B helicase', ...), Reference(title='', ...), Reference(title='Frameshifting in gene 10 of bacteriophage T7', ...), Reference(title='Sequence of bacteriophage T3 DNA from gene 2.5 through gene 9', ...), Reference(title='Nucleotide sequence of the bacteriophage P22 gene 19 to 3 region: identification of a new gene required for lysis', ...), Reference(title='Mutants of bacteriophage T7 that escape F restriction', ...), Reference(title='Escherichia coli dGTP triphosphohydrolase is inhibited by gene 1.2 protein of bacteriophage T7', ...), Reference(title='T7 lysozyme inhibits transcription by T7 RNA polymerase', ...), Reference(title='Bacteriophage T7 E promoter: identification and measurement of kinetics of association with Escherichia coli RNA polymerase', ...), Reference(title='Nucleotide sequence of the gene for bacteriophage T7 RNA polymerase', ...), Reference(title='Complete nucleotide sequence of bacteriophage T7 DNA and the locations of T7 genetic elements', ...), Reference(title='', ...), Reference(title='', ...), Reference(title='', ...), Reference(title='Direct Submission', ...), Reference(title='Direct Submission', ...), Reference(title='Direct Submission', ...)]\n",
      "/comment=VALIDATED REFSEQ: This record has undergone validation or\n",
      "preliminary review. The reference sequence was derived from V01146.\n",
      "The sequence was submitted by the authors [1] on magnetic tape and\n",
      "revised according to [3], [4], and [5]. [3] made changes at 8\n",
      "positions in gene 1 without affecting the size of the total\n",
      "sequence but changing gene 1 amino acids 443, 474, and 388 to 424.\n",
      "[4] inserted a T at nucleotide 17511, increasing the total sequence\n",
      "to 39937 bp. This change, originally found in T3 DNA [8], revealed\n",
      "gene 5.9 and shortened gene 6. [5] changed the nucleotides at 11061\n",
      "and 11062 from GT to TG, changing amino acid 119 of T7 lysozyme\n",
      "(gene 3.5) from glycine to valine. Features have been extracted\n",
      "from [1] unless otherwise noted. The sequence shown is that of the\n",
      "l strand, which corresponds to the sequence of all mRNAs of known\n",
      "functional significance. Early mRNAs are produced by three major\n",
      "promoters for E. coli RNA polymerase A1, A2, and A3, located near\n",
      "the left end of the DNA. A fourth major E. coli promoter, A0 (also\n",
      "called D), that would direct transcription leftward, and several\n",
      "minor E. coli promoters (see Table 6 in [1]) function in vitro but\n",
      "have no known in vivo function. Late mRNAs are produced by 15\n",
      "promoters for T7 RNA polymerase distributed across the right-most\n",
      "85% of the DNA, and named e.g. phi10, for the first gene downstream\n",
      "of the promoter. There are also two T7 promoters, phiOL and phiOR,\n",
      "associated with possible origins of replication at the left and\n",
      "right ends of T7 DNA. The 23 base-pair consensus sequence for T7\n",
      "promoters stretches from -17 to +6, where the initiating nucleotide\n",
      "is at +1. T7 DNA also contains a 160 base-pair terminal repetition.\n",
      "The beginning and end of RNAs are determined by the promoters; by a\n",
      "terminator for E. coli RNA polymerase, TE, located at the end of\n",
      "the early region; a terminator for T7 RNA polymerase, Tphi, located\n",
      "just downstream of gene 10; and a series of RNase III cleavage\n",
      "sites. Early mRNAs made by E. coli RNA polymerase are listed in\n",
      "Features. The many RNAs predicted to be made by T7 RNA polymerase\n",
      "are not listed but can be deduced from the position of the\n",
      "transcription signals (see Tables 8 and 9 in [1]). Promoters are\n",
      "listed in Features by the known or predicted first nucleotide of\n",
      "the RNA, terminators by the last nucleotide of the RNA, and RNase\n",
      "III sites by the nucleotide 5' of the position of cleavage. Genes\n",
      "are numbered 0.3 to 19.5 in order of their left-to-right position\n",
      "on the genome. Proteins are named by the gene number, e.g., the\n",
      "gene 1 protein, or by a functional name, e.g., T7 RNA polymerase.\n",
      "There is now genetic or biochemical evidence that proteins are\n",
      "produced from at least 52 of the 56 T7 genes. Gene 4 produces two\n",
      "proteins, 4A and 4B, by initiating translation at two different\n",
      "sites in the same reading frame. Gene 10 produces two proteins, 10A\n",
      "and 10B, by frameshifting during translation. Genes 0.6 and 5.5\n",
      "probably also make two proteins by translational frameshifting, the\n",
      "gene 5.5 frameshift producing a gene 5.5-5.7 fusion protein.\n",
      "COMPLETENESS: full length.\n",
      "Seq('TCTCACAGTGTACGGACCTAAAGTTCCCCCATAGGGGGTACCTAAAGCCCAGCC...CCT', IUPACAmbiguousDNA())\n"
     ]
    }
   ],
   "source": [
    "# Problem 1\n",
    "\n",
    "# your code goes here.\n",
    "\n",
    "# Retrive from entrez\n",
    "handle = Entrez.efetch(db=\"nucleotide\",id=\"NC_001604\", rettype=\"gb\", retmode=\"text\")\n",
    "\n",
    "# reading that \n",
    "gb_file_contents = handle.read()\n",
    "handle.close()\n",
    "\n",
    "# writing that\n",
    "with open(\"NC_001604.gb\",\"w\") as output_handle:\n",
    "    output_handle.write(gb_file_contents)\n",
    "\n",
    "with open(\"NC_001604.gb\",\"r\") as input_handle:\n",
    "    record = SeqIO.read(input_handle,format= \"gb\")\n",
    "print(record)"
   ]
  },
  {
   "cell_type": "markdown",
   "metadata": {},
   "source": [
    "**Problem 2:**\n",
    "\n",
    "Now read in the T7 genome, and for each coding sequence (CDS) in that genome print out the name (`locus_tag`) and the product name (`product`).\n",
    "\n",
    "Hints:\n",
    "- First you need to parse the genbank file into a record, using `SeqIO.read()`.\n",
    "- All gene annotations are stored as features, and `record.features` gives you a list of all these features.\n",
    "- Each feature has a type, accessible through `feature.type`. We are only interested in features of type \"CDS\".\n",
    "- The actual annotations we are interested in, such as `locus_tag`, `product`, etc., are stored in the dictionary `feature.qualifiers`."
   ]
  },
  {
   "cell_type": "code",
   "execution_count": 6,
   "metadata": {},
   "outputs": [
    {
     "name": "stdout",
     "output_type": "stream",
     "text": [
      "['T7p01']\n",
      "['hypothetical protein']\n",
      "['T7p02']\n",
      "['hypothetical protein']\n",
      "['T7p04']\n",
      "['hypothetical protein']\n",
      "['T7p05']\n",
      "['hypothetical protein']\n",
      "['T7p06']\n",
      "['hypothetical protein']\n",
      "['T7p03']\n",
      "['protein kinase']\n",
      "['T7p07']\n",
      "['T3/T7-like RNA polymerase']\n",
      "['T7p09']\n",
      "['hypothetical protein']\n",
      "['T7p08']\n",
      "['host dGTPase inhibitor']\n",
      "['T7p10']\n",
      "['ATP-dependent DNA ligase']\n",
      "['T7p11']\n",
      "['hypothetical protein']\n",
      "['T7p12']\n",
      "['hypothetical protein']\n",
      "['T7p13']\n",
      "['hypothetical protein']\n",
      "['T7p14']\n",
      "['hypothetical protein']\n",
      "['T7p15']\n",
      "['hypothetical protein']\n",
      "['T7p16']\n",
      "['inhibitor of host bacterial RNA polymerase']\n",
      "['T7p17']\n",
      "['single-stranded DNA-binding protein']\n",
      "['T7p18']\n",
      "['hypothetical protein']\n",
      "['T7p19']\n",
      "['endonuclease I']\n",
      "['T7p20']\n",
      "['lysozyme']\n",
      "['T7p21']\n",
      "['putative NHN endonuclease']\n",
      "['T7p22']\n",
      "['DNA primase/helicase']\n",
      "['T7p23']\n",
      "['hypothetical protein']\n",
      "['T7p24']\n",
      "['helicase']\n",
      "['T7p25']\n",
      "['hypothetical protein']\n",
      "['T7p26']\n",
      "['hypothetical protein']\n",
      "['T7p27']\n",
      "['hypothetical protein']\n",
      "['T7p28']\n",
      "['hypothetical protein']\n",
      "['T7p29']\n",
      "['DNA polymerase']\n",
      "['T7p30']\n",
      "['hypothetical protein']\n",
      "['T7p31']\n",
      "['hypothetical protein']\n",
      "['T7p32']\n",
      "['host protein H-NS-interacting protein']\n",
      "['T7p33']\n",
      "['hypothetical protein']\n",
      "['T7p34']\n",
      "['host recBCD nuclease inhibitor']\n",
      "['T7p35']\n",
      "['exonuclease']\n",
      "['T7p36']\n",
      "['hypothetical protein']\n",
      "['T7p37']\n",
      "['hypothetical protein']\n",
      "['T7p38']\n",
      "['hypothetical protein']\n",
      "['T7p39']\n",
      "['hypothetical protein']\n",
      "['T7p40']\n",
      "['tail assembly protein']\n",
      "['T7p41']\n",
      "['hypothetical protein']\n",
      "['T7p42']\n",
      "['head-tail connector protein']\n",
      "['T7p43']\n",
      "['capsid assembly protein']\n",
      "['T7p44']\n",
      "['major capsid protein']\n",
      "['T7p45']\n",
      "['major capsid protein']\n",
      "['T7p46']\n",
      "['tail tubular protein A']\n",
      "['T7p47']\n",
      "['tail tubular protein B']\n",
      "['T7p48']\n",
      "['internal virion protein A']\n",
      "['T7p49']\n",
      "['internal virion protein B']\n",
      "['T7p50']\n",
      "['internal virion protein C']\n",
      "['T7p51']\n",
      "['internal virion protein D']\n",
      "['T7p52']\n",
      "['tail fiber protein']\n",
      "['T7p53']\n",
      "['type II holin']\n",
      "['T7p54']\n",
      "['DNA packaging protein, small subunit']\n",
      "['T7p55']\n",
      "['phage lambda Rz-like lysis protein']\n",
      "['T7p56']\n",
      "['phage lambda Rz1-like protein']\n",
      "['T7p57']\n",
      "['DNA maturation protein']\n",
      "['T7p58']\n",
      "['hypothetical protein']\n",
      "['T7p59']\n",
      "['hypothetical protein']\n",
      "['T7p60']\n",
      "['hypothetical protein']\n"
     ]
    }
   ],
   "source": [
    "# Problem 2\n",
    "\n",
    "for feature in record.features:\n",
    "    if feature.type==\"CDS\":\n",
    "        locus = feature.qualifiers['locus_tag'][0]\n",
    "        prod = feature.qualifiers['product'][0]\n",
    "        print()\n",
    "        \n",
    "\n",
    "# your code goes here."
   ]
  },
  {
   "cell_type": "markdown",
   "metadata": {},
   "source": [
    "**Problem 3:**\n",
    "\n",
    "Calculate the mean gene length (in amino acids) for all CDSs in the T7 genome.\n",
    "\n",
    "Hint: Use the function `round()` to round your result to 2 decimal digits."
   ]
  },
  {
   "cell_type": "code",
   "execution_count": 17,
   "metadata": {},
   "outputs": [
    {
     "name": "stdout",
     "output_type": "stream",
     "text": [
      "avg length 227.62\n"
     ]
    }
   ],
   "source": [
    "# Problem 3\n",
    "\n",
    "# your code goes here.\n",
    "length=0\n",
    "count=0\n",
    "for feature in record.features:\n",
    "    if feature.type==\"CDS\":\n",
    "        trans = feature.qualifiers['translation'][0]\n",
    "        length += len(trans) \n",
    "        count+=1\n",
    "        #print(str(trans))\n",
    "        #print(len(trans))\n",
    "        \n",
    "print(\"avg length\", round(length/count,2))        "
   ]
  },
  {
   "cell_type": "markdown",
   "metadata": {},
   "source": [
    "**Problem 4:**\n",
    "\n",
    "(a) Download the *E. coli* K12 genome, available here: http://www.ncbi.nlm.nih.gov/nuccore/CP009685, and store it in a file called `Ecoli_K12.gb`.\n",
    "\n",
    "(b) Calculate the fraction of coding sequences that are marked as \"hypothetical protein\". (This information is provided in the \"product\" qualifier of a \"CDS\" feature.)\n",
    "\n",
    "(c) Calculate the GC content of the *entire* genome sequence. GC content is the fraction of G and C nucleotides in the sequence."
   ]
  },
  {
   "cell_type": "code",
   "execution_count": 6,
   "metadata": {},
   "outputs": [],
   "source": [
    "# Problem 4a\n",
    "\n",
    "# your code goes here."
   ]
  },
  {
   "cell_type": "code",
   "execution_count": 7,
   "metadata": {},
   "outputs": [],
   "source": [
    "# Problem 4b\n",
    "\n",
    "# your code goes here."
   ]
  },
  {
   "cell_type": "code",
   "execution_count": 8,
   "metadata": {},
   "outputs": [],
   "source": [
    "# Problem 4c\n",
    "\n",
    "# your code goes here."
   ]
  },
  {
   "cell_type": "markdown",
   "metadata": {},
   "source": [
    "## If this was easy"
   ]
  },
  {
   "cell_type": "markdown",
   "metadata": {},
   "source": [
    "**Problem 5:**\n",
    "\n",
    "In the T7 genome, find the CDS feature corresponding to locus tag \"T7p45\" (major capsid protein), and then use the `feature.extract()` function to extract the DNA sequence corresponding to that gene. Then translate that sequence to verify (by inspection) that it corresponds to the protein sequence that is listed for gene T7p45."
   ]
  },
  {
   "cell_type": "code",
   "execution_count": 9,
   "metadata": {},
   "outputs": [],
   "source": [
    "# Problem 5\n",
    "\n",
    "# your code goes here."
   ]
  },
  {
   "cell_type": "markdown",
   "metadata": {},
   "source": [
    "**Problem 6:**\n",
    "\n",
    "For the influenza HA gene with ID \"KT220438\", write python code that checks whether the protein sequence listed in the CDS feature corresponds to the protein sequence you obtain when you translate the gene sequence. The code should print \"The two translations match\" or \"The two translations do not match\" depending on whether there is a match or not."
   ]
  },
  {
   "cell_type": "code",
   "execution_count": 10,
   "metadata": {},
   "outputs": [],
   "source": [
    "# Problem 5\n",
    "\n",
    "# your code goes here."
   ]
  }
 ],
 "metadata": {
  "kernelspec": {
   "display_name": "Python 3",
   "language": "python",
   "name": "python3"
  },
  "language_info": {
   "codemirror_mode": {
    "name": "ipython",
    "version": 3
   },
   "file_extension": ".py",
   "mimetype": "text/x-python",
   "name": "python",
   "nbconvert_exporter": "python",
   "pygments_lexer": "ipython3",
   "version": "3.6.5"
  }
 },
 "nbformat": 4,
 "nbformat_minor": 2
}
