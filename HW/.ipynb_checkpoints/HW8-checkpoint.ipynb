{
 "cells": [
  {
   "cell_type": "markdown",
   "metadata": {},
   "source": [
    "# Homework 8"
   ]
  },
  {
   "cell_type": "markdown",
   "metadata": {},
   "source": [
    "*Akshay Kumar Varanasi (av32826)*\n",
    "\n",
    "**This homework is due on April 9, 2019 at 4:00pm. Please submit as a PDF file on Canvas. Before submission, please re-run all cells by clicking \"Kernel\" and selecting \"Restart & Run All.\"**\n"
   ]
  },
  {
   "cell_type": "markdown",
   "metadata": {},
   "source": [
    "**Problem 1 (5 points):** In bioinformatics, k-mers refer to all the possible subsequences (of length k) from a read obtained through DNA sequencing. For example, if the DNA sequencing read is \"ATCATCATG\", then the 3-mers in that read include \"ATC\" (which occurs twice), \"TCA\" (which occurs twice), \"CAT\" (occurs twice), and \"ATG\" (occurs once). You can read more about k-mers on [Wikipedia](https://en.wikipedia.org/wiki/K-mer).\n",
    "\n",
    "a) Write a function that takes a string of nucleotides as input and returns a **dictionary** with all 2-mers present in that string, and the number of times that each 2-mer occurs. Then use your function to find the 2-mers in the DNA sequence `my_seq` defined below.\n",
    "\n",
    "The output of your function should be a dictionary that is structured like this (although it will have several more entries):\n",
    "\n",
    "`{\"AT\": 2, \"TC\": 2, \"CA\": 1}`\n",
    "\n",
    "where each key is a 2-mer itself (e.g., \"AT\") and each value is the number of times that 2-mer occurs.\n",
    "\n",
    "b) Come up with a short DNA sequence and use it to verify manually that your function generates the correct result. Explain your reasoning in 2-3 sentences."
   ]
  },
  {
   "cell_type": "code",
   "execution_count": 9,
   "metadata": {},
   "outputs": [
    {
     "name": "stdout",
     "output_type": "stream",
     "text": [
      "{'CC': 5, 'CT': 7, 'TC': 9, 'TT': 3, 'TA': 1, 'AT': 6, 'CG': 3, 'GT': 1, 'CA': 6, 'AA': 3, 'GA': 6, 'AG': 3, 'GG': 6, 'TG': 4, 'AC': 4, 'GC': 2}\n",
      "{'CC': 2, 'CA': 1, 'AT': 1, 'TC': 1}\n"
     ]
    }
   ],
   "source": [
    "# Find all 2-mers in this sequences\n",
    "my_seq = \"CCTCTCCCTTATCGTCAATCTTCTCGAGGATTGGGGACCCTGCGCTGAACATGGAGAACATCACATCAGG\"\n",
    "\n",
    "# Your code goes here\n",
    "def twomer_count(seq):\n",
    "    twomers = {}\n",
    "    for i in range(len(seq)-1):\n",
    "        if seq[i:i+2] in twomers.keys():\n",
    "            twomers[seq[i:i+2]]+=1\n",
    "        else:    \n",
    "            twomers[seq[i:i+2]]=1\n",
    "    print(twomers)    \n",
    "\n",
    "    \n",
    "twomer_count(my_seq)    \n",
    "\n",
    "# Verfication with simple example\n",
    "my_seq = \"CCATCC\"\n",
    "\n",
    "twomer_count(my_seq)    \n"
   ]
  },
  {
   "cell_type": "markdown",
   "metadata": {},
   "source": [
    "As we can see, the function has been verified with simple example \"CCATCC\". We can see that there are following possible 2-mers: \"CC\",\"CA\",\"AT\" and \"TC\". And only \"CC\" appears twice whereas others appear only once."
   ]
  },
  {
   "cell_type": "markdown",
   "metadata": {},
   "source": [
    "**Problem 2 (5 points):** DNA sequences are typically stored in a format called FASTA (pronounced fast-ay). A single FASTA file may contain many different sequences. For example, you may have a FASTA file for a mouse, and each mouse gene sequence is stored as a separate sequence in that FASTA file. All sequences in a FASTA file begin on a new line with a greater-than symbol \"`>`\" (without quotes). \n",
    "\n",
    "Write a function that takes the *name* of a FASTA file as input, opens that file, counts the number of sequences in the file (by counting the number of lines in the file that start with a “>” symbol), and returns the count. Download the file \"[hepatitis_b_genome.fasta](http://wilkelab.org/classes/SDS348/2019_spring/homeworks/hepatitis_b_genome.fasta)\" to your computer and use your function to count the number of sequences in the file."
   ]
  },
  {
   "cell_type": "code",
   "execution_count": 8,
   "metadata": {},
   "outputs": [
    {
     "name": "stdout",
     "output_type": "stream",
     "text": [
      "7\n"
     ]
    }
   ],
   "source": [
    "# Your code goes here\n",
    "def fasta_seq_count(filename):\n",
    "    with open(filename,\"r\") as inputfile:\n",
    "        count=0\n",
    "        lines = inputfile.readlines()\n",
    "        for i in range(len(lines)):\n",
    "            if lines[i].startswith(\">\"):\n",
    "                count+=1\n",
    "        print(count)        \n",
    "        \n",
    "        \n",
    "fasta_seq_count(\"hepatitis_b_genome.fasta\")        "
   ]
  },
  {
   "cell_type": "markdown",
   "metadata": {},
   "source": [
    "There are seven sequences in the file \"hepatitis_b_genome.fasta\"\n"
   ]
  }
 ],
 "metadata": {
  "kernelspec": {
   "display_name": "Python 3",
   "language": "python",
   "name": "python3"
  },
  "language_info": {
   "codemirror_mode": {
    "name": "ipython",
    "version": 3
   },
   "file_extension": ".py",
   "mimetype": "text/x-python",
   "name": "python",
   "nbconvert_exporter": "python",
   "pygments_lexer": "ipython3",
   "version": "3.6.5"
  }
 },
 "nbformat": 4,
 "nbformat_minor": 1
}
