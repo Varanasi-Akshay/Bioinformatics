{
 "cells": [
  {
   "cell_type": "markdown",
   "metadata": {},
   "source": [
    "# Homework 9"
   ]
  },
  {
   "cell_type": "markdown",
   "metadata": {},
   "source": [
    "*Akshay Kumar Varanasi (av32826)*\n",
    "\n",
    "**This homework is due on April 16, 2019 at 4:00pm. Please submit as a PDF file on Canvas. Before submission, please re-run all cells by clicking \"Kernel\" and selecting \"Restart & Run All.\"**\n"
   ]
  },
  {
   "cell_type": "markdown",
   "metadata": {},
   "source": [
    "**Problem 1 (2 points):** Using Biopython and the Pubmed database, calculate the average number of papers per year that Dr. Wilke has published from 2015-2019 (inclusive, so that's 5 years total). \n",
    "\n",
    "**Hints**: Dr. Wilke will always appear as \"Wilke CO\" in the Pubmed database. Also, make sure to set the `retmax` argument to at least `50` in `Entrez.esearch()` so that you retrieve all of the papers. "
   ]
  },
  {
   "cell_type": "code",
   "execution_count": 1,
   "metadata": {
    "scrolled": true
   },
   "outputs": [
    {
     "name": "stdout",
     "output_type": "stream",
     "text": [
      "Average number of papers per year that Dr. Wilke has published from 2015-2019 is 9\n"
     ]
    }
   ],
   "source": [
    "# You will need Entrez and Medline to solve this problem\n",
    "from Bio import Entrez, Medline\n",
    "\n",
    "Entrez.email = \"akshayvaranasi@utexas.edu\"\n",
    "\n",
    "handle = Entrez.esearch(db=\"pubmed\",  # database to search\n",
    "                        term=\"Wilke CO[Author] AND 2015[Date - Publication]:2019[Date - Publication]\",  # search term\n",
    "                        retmax=50  # number of results that are returned\n",
    "                        )\n",
    "record = Entrez.read(handle)\n",
    "handle.close()\n",
    "\n",
    "# search returns PubMed IDs (pmids)\n",
    "pmid_list = record[\"IdList\"]\n",
    "print(\"Average number of papers per year that Dr. Wilke has published from 2015-2019 is \"+str(round(len(pmid_list)/5)))\n"
   ]
  },
  {
   "cell_type": "markdown",
   "metadata": {},
   "source": [
    "**Problem 2 (4 points):** From the years 2015-2019 (inclusive), how many different co-authors did Dr. Wilke publish with and how many times did Dr. Wilke publish a paper with each co-author? Print out each co-author and the number of times Dr. Wilke published a paper with that co-author. Make sure you don't print the same co-author's name twice.\n",
    "\n",
    "**Hint**: In class 21, we parsed the results of a literature search with `Medline.parse()`. This allows us to look at the references we found and to retrieve different parts of the reference with a key. For example, to retrieve the abstract, we would write `record['AB']`. You can find a list of possible keys [here](https://www.nlm.nih.gov/bsd/mms/medlineelements.html)."
   ]
  },
  {
   "cell_type": "code",
   "execution_count": 2,
   "metadata": {},
   "outputs": [
    {
     "name": "stdout",
     "output_type": "stream",
     "text": [
      "92\n",
      "Co-authors of \"Wilke CO\" in 2015:2019 :\n",
      "  Jack BR  published  6  times with Dr.Wilke\n",
      "  Teufel AI  published  6  times with Dr.Wilke\n",
      "  Johnson MM  published  2  times with Dr.Wilke\n",
      "  Laurent JM  published  3  times with Dr.Wilke\n",
      "  Kachroo AH  published  3  times with Dr.Wilke\n",
      "  Marcotte EM  published  6  times with Dr.Wilke\n",
      "  Caglar MU  published  4  times with Dr.Wilke\n",
      "  Hockenberry AJ  published  2  times with Dr.Wilke\n",
      "  Ritchie AM  published  1  times with Dr.Wilke\n",
      "  Liberles DA  published  1  times with Dr.Wilke\n",
      "  Jewett MC  published  1  times with Dr.Wilke\n",
      "  Amaral LAN  published  1  times with Dr.Wilke\n",
      "  Paff ML  published  2  times with Dr.Wilke\n",
      "  Smith BL  published  5  times with Dr.Wilke\n",
      "  Bull JJ  published  2  times with Dr.Wilke\n",
      "  Chen G  published  1  times with Dr.Wilke\n",
      "  Krug RM  published  1  times with Dr.Wilke\n",
      "  Wu DC  published  1  times with Dr.Wilke\n",
      "  Yao J  published  1  times with Dr.Wilke\n",
      "  Ho KS  published  1  times with Dr.Wilke\n",
      "  Lambowitz AM  published  1  times with Dr.Wilke\n",
      "  Sydykova DK  published  4  times with Dr.Wilke\n",
      "  Spielman SJ  published  10  times with Dr.Wilke\n",
      "  Jiang Q  published  1  times with Dr.Wilke\n",
      "  Jackson EL  published  5  times with Dr.Wilke\n",
      "  Tucker AT  published  1  times with Dr.Wilke\n",
      "  Leonard SP  published  1  times with Dr.Wilke\n",
      "  DuBois CD  published  1  times with Dr.Wilke\n",
      "  Knauf GA  published  1  times with Dr.Wilke\n",
      "  Cunningham AL  published  1  times with Dr.Wilke\n",
      "  Trent MS  published  2  times with Dr.Wilke\n",
      "  Davies BW  published  1  times with Dr.Wilke\n",
      "  Guo F  published  1  times with Dr.Wilke\n",
      "  Li S  published  1  times with Dr.Wilke\n",
      "  Mao Z  published  1  times with Dr.Wilke\n",
      "  Liu W  published  1  times with Dr.Wilke\n",
      "  Woodman A  published  1  times with Dr.Wilke\n",
      "  Arnold JJ  published  1  times with Dr.Wilke\n",
      "  Huang TJ  published  1  times with Dr.Wilke\n",
      "  Cameron CE  published  1  times with Dr.Wilke\n",
      "  Boutz DR  published  4  times with Dr.Wilke\n",
      "  Chapman SD  published  1  times with Dr.Wilke\n",
      "  Adami C  published  1  times with Dr.Wilke\n",
      "  B Kc D  published  1  times with Dr.Wilke\n",
      "  Houser JR  published  2  times with Dr.Wilke\n",
      "  Barnhart CS  published  1  times with Dr.Wilke\n",
      "  Carroll SM  published  2  times with Dr.Wilke\n",
      "  Dasgupta A  published  2  times with Dr.Wilke\n",
      "  Lenoir WF  published  1  times with Dr.Wilke\n",
      "  Sridhara V  published  3  times with Dr.Wilke\n",
      "  Vander Wood D  published  1  times with Dr.Wilke\n",
      "  Marx CJ  published  2  times with Dr.Wilke\n",
      "  Barrick JE  published  3  times with Dr.Wilke\n",
      "  Brown CW  published  1  times with Dr.Wilke\n",
      "  Person MD  published  1  times with Dr.Wilke\n",
      "  Echave J  published  4  times with Dr.Wilke\n",
      "  Lipsitch M  published  1  times with Dr.Wilke\n",
      "  Barclay W  published  1  times with Dr.Wilke\n",
      "  Raman R  published  1  times with Dr.Wilke\n",
      "  Russell CJ  published  1  times with Dr.Wilke\n",
      "  Belser JA  published  1  times with Dr.Wilke\n",
      "  Cobey S  published  1  times with Dr.Wilke\n",
      "  Kasson PM  published  1  times with Dr.Wilke\n",
      "  Lloyd-Smith JO  published  1  times with Dr.Wilke\n",
      "  Maurer-Stroh S  published  1  times with Dr.Wilke\n",
      "  Riley S  published  1  times with Dr.Wilke\n",
      "  Beauchemin CA  published  1  times with Dr.Wilke\n",
      "  Bedford T  published  2  times with Dr.Wilke\n",
      "  Friedrich TC  published  1  times with Dr.Wilke\n",
      "  Handel A  published  1  times with Dr.Wilke\n",
      "  Herfst S  published  1  times with Dr.Wilke\n",
      "  Murcia PR  published  1  times with Dr.Wilke\n",
      "  Roche B  published  1  times with Dr.Wilke\n",
      "  Russell CA  published  1  times with Dr.Wilke\n",
      "  McWhite CD  published  1  times with Dr.Wilke\n",
      "  Meyer AG  published  7  times with Dr.Wilke\n",
      "  Wan S  published  1  times with Dr.Wilke\n",
      "  Sawyer SL  published  2  times with Dr.Wilke\n",
      "  Shahmoradi A  published  2  times with Dr.Wilke\n",
      "  Derryberry DZ  published  1  times with Dr.Wilke\n",
      "  Cowperthwaite MC  published  1  times with Dr.Wilke\n",
      "  Kerr SA  published  1  times with Dr.Wilke\n",
      "  Lungu OI  published  1  times with Dr.Wilke\n",
      "  Demogines A  published  1  times with Dr.Wilke\n",
      "  Ellington AD  published  1  times with Dr.Wilke\n",
      "  Georgiou G  published  1  times with Dr.Wilke\n",
      "  Barnhart C  published  1  times with Dr.Wilke\n",
      "  Michener JK  published  1  times with Dr.Wilke\n",
      "  Needham BD  published  1  times with Dr.Wilke\n",
      "  Papoulas O  published  1  times with Dr.Wilke\n",
      "  Yellman CM  published  1  times with Dr.Wilke\n",
      "  Kumar K  published  1  times with Dr.Wilke\n"
     ]
    }
   ],
   "source": [
    "handle = Entrez.efetch(db=\"pubmed\", id=pmid_list, rettype=\"medline\", retmode=\"text\")\n",
    "records = Medline.parse(handle)\n",
    "coauthors = {} # start with empty dict of coauthors\n",
    "for record in records:\n",
    "    au_list = record['AU']\n",
    "    for author in au_list:\n",
    "        if author != \"Wilke CO\" and author in coauthors:\n",
    "            coauthors[author]+=1  \n",
    "        if author != \"Wilke CO\" and author not in coauthors:\n",
    "            coauthors[author]=1\n",
    "          \n",
    "        #else:\n",
    "         #   coauthors[author]+=1\n",
    "handle.close()\n",
    "print('No.of co-authors are:'len(coauthors))\n",
    "print('Co-authors of \"Wilke CO\" in 2015:2019 :')\n",
    "for author in coauthors:\n",
    "    print(\" \", author,\" published \",coauthors[author], \" times with Dr.Wilke\")"
   ]
  },
  {
   "cell_type": "markdown",
   "metadata": {},
   "source": [
    "**Problem 3 (4 points):** From 2015-2019 (inclusive), how many of Dr. Wilke's papers contain the terms \"evolution\" or \"evolutionary\" in the abstract? Use python and **regular expressions** to find an answer.\n",
    "\n",
    "**Hint:** In a regular expression, you can match the same word with slightly different endings using the \"`|`\" (or) operator. For example, the regex \"bacteri(a|um)\" would match both \"bacteria\" and \"bacterium\"."
   ]
  },
  {
   "cell_type": "code",
   "execution_count": 3,
   "metadata": {},
   "outputs": [
    {
     "name": "stdout",
     "output_type": "stream",
     "text": [
      "No.of papers which contain the terms \"evolution\" or \"evolutionary\" in the abstract is 26\n"
     ]
    }
   ],
   "source": [
    "# You'll need the module re for regular expressions\n",
    "import re\n",
    "handle = Entrez.efetch(db=\"pubmed\", id=pmid_list, rettype=\"medline\", retmode=\"text\")\n",
    "records = Medline.parse(handle)\n",
    "count=0\n",
    "\n",
    "for record in records:\n",
    "    if 'AB' in record:\n",
    "        abstract = record['AB']\n",
    "        #print(record)\n",
    "        match = re.search(r\"\\bevolutio(n\\b|nary\\b)\",abstract)\n",
    "        if match:\n",
    "            count+=1\n",
    "            #print(abstract)\n",
    "            #print()\n",
    "            \n",
    "        \n",
    "\n",
    "print(\"No.of papers which contain the terms \\\"evolution\\\" or \\\"evolutionary\\\" in the abstract is\",count)"
   ]
  }
 ],
 "metadata": {
  "kernelspec": {
   "display_name": "Python 3",
   "language": "python",
   "name": "python3"
  },
  "language_info": {
   "codemirror_mode": {
    "name": "ipython",
    "version": 3
   },
   "file_extension": ".py",
   "mimetype": "text/x-python",
   "name": "python",
   "nbconvert_exporter": "python",
   "pygments_lexer": "ipython3",
   "version": "3.6.5"
  }
 },
 "nbformat": 4,
 "nbformat_minor": 1
}
