{
 "cells": [
  {
   "cell_type": "markdown",
   "metadata": {},
   "source": [
    "# Homework 10"
   ]
  },
  {
   "cell_type": "markdown",
   "metadata": {},
   "source": [
    "*Akshay Kumar Varanasi(av32826)*\n",
    "\n",
    "**This homework is due on Apr. 23, 2019 at 4:00pm. Please submit as a PDF file on Canvas. Before submission, please re-run all cells by clicking \"Kernel\" and selecting \"Restart & Run All.\"**\n",
    "\n",
    "**Problem 1 (4 pts)**: Write python code that can take a string of the form \"https://<span></span>website.com\" and of the form \"https://<span></span>website.com/page1\", extract the name of the website (indicated here by \"website\"), and then print it. Make sure you get just the part between \"https://\" and \".com\"."
   ]
  },
  {
   "cell_type": "code",
   "execution_count": 5,
   "metadata": {},
   "outputs": [
    {
     "name": "stdout",
     "output_type": "stream",
     "text": [
      "The website name is github\n",
      "The website name is twitter\n"
     ]
    }
   ],
   "source": [
    "# You will need re to solve this problem\n",
    "import re\n",
    "\n",
    "test_string1 = \"https://github.com\"\n",
    "test_string2 = \"https://twitter.com/dariyasydykova\"\n",
    "\n",
    "# Your code goes here\n",
    "def website(string):\n",
    "    match = re.search(\"https://(.*).com\",string)\n",
    "    print(\"The website name is\",match.group(1))\n",
    "\n",
    "    \n",
    "website(test_string1)    \n",
    "\n",
    "website(test_string2)    "
   ]
  },
  {
   "cell_type": "markdown",
   "metadata": {},
   "source": [
    "**Problem 2 (6 pts)**: We will work with the E. coli genome. First, we download it:"
   ]
  },
  {
   "cell_type": "code",
   "execution_count": 2,
   "metadata": {},
   "outputs": [],
   "source": [
    "from Bio import Entrez\n",
    "\n",
    "Entrez.email = \"akshayvaranasi@utexas.edu\"\n",
    "\n",
    "# Download E. coli K12 genome:\n",
    "download_handle = Entrez.efetch(db=\"nucleotide\", id=\"CP009685\", rettype=\"gb\", retmode=\"text\")\n",
    "data = download_handle.read()\n",
    "download_handle.close()\n",
    "\n",
    "# Store data into file \"Ecoli_K12.gb\":\n",
    "out_handle = open(\"Ecoli_K12.gb\", \"w\")\n",
    "out_handle.write(data)\n",
    "out_handle.close()"
   ]
  },
  {
   "cell_type": "markdown",
   "metadata": {},
   "source": [
    "Write code that loops over all features in the E. coli genome, and counts the number of tRNAs and rRNAs that are contained within it. Use **regular expressions** to find an answer."
   ]
  },
  {
   "cell_type": "code",
   "execution_count": 3,
   "metadata": {},
   "outputs": [
    {
     "name": "stdout",
     "output_type": "stream",
     "text": [
      "The number of tRNAs and rRNAs contained within are 109\n"
     ]
    }
   ],
   "source": [
    "# You will need re and SeqIO to solve this problem\n",
    "import re\n",
    "from Bio import SeqIO\n",
    "\n",
    "\n",
    "input_handle = open(\"Ecoli_K12.gb\", \"r\")\n",
    "record = SeqIO.read(input_handle,\"genbank\")\n",
    "input_handle.close()\n",
    "\n",
    "RNA_count = 0\n",
    "\n",
    "for feature in record.features:\n",
    "    #print(feature.type)\n",
    "    match_rna=re.search(\"(t|r)RNA\",str(feature.type))\n",
    "    if match_rna:\n",
    "        RNA_count+=1\n",
    "        \n",
    "print(\"The number of tRNAs and rRNAs contained within are\",RNA_count)\n"
   ]
  }
 ],
 "metadata": {
  "kernelspec": {
   "display_name": "Python 3",
   "language": "python",
   "name": "python3"
  },
  "language_info": {
   "codemirror_mode": {
    "name": "ipython",
    "version": 3
   },
   "file_extension": ".py",
   "mimetype": "text/x-python",
   "name": "python",
   "nbconvert_exporter": "python",
   "pygments_lexer": "ipython3",
   "version": "3.6.5"
  }
 },
 "nbformat": 4,
 "nbformat_minor": 2
}
