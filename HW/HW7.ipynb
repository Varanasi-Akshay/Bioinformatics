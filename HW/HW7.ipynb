{
 "cells": [
  {
   "cell_type": "markdown",
   "metadata": {},
   "source": [
    "# Homework 7 "
   ]
  },
  {
   "cell_type": "markdown",
   "metadata": {},
   "source": [
    "*Akshay Kumar Varanasi (av32826)*\n",
    "\n",
    "**This homework is due on Mar. 20, 2018 at 7:00pm. Please submit as a PDF file on Canvas. Before submission, please re-run all cells by clicking \"Kernel\" and selecting \"Restart & Run All.\"**\n",
    "\n",
    "**Problem 1 (5 pts)**: Create a list with the names of your favorite animals. Your list should contain at least 5 animals. Then, complete the following steps using python. *Each step should be completed in a different cell and your results should be printed with `print()`.*\n",
    "\n",
    "1. Sort the list so that the names appear in alphabetical order.\n",
    "2. Print how many items there are in the list. *Hint:* use the function `len()`.\n",
    "3. Remove an animal from your list and print the length of the list again.\n",
    "4. Add the animal \"ostrich\" to your list.\n",
    "5. Make a new list in which every animal name in your original list is repeated 3 times."
   ]
  },
  {
   "cell_type": "code",
   "execution_count": 1,
   "metadata": {},
   "outputs": [],
   "source": [
    "# Creating a list of animals\n",
    "animals = [\"Lion\",\"Tiger\",\"Crocodile\",\"Giraffes\",\"Penguin\",\"Parrot\",\"Elephant\"]\n"
   ]
  },
  {
   "cell_type": "code",
   "execution_count": 2,
   "metadata": {},
   "outputs": [
    {
     "name": "stdout",
     "output_type": "stream",
     "text": [
      "['Crocodile', 'Elephant', 'Giraffes', 'Lion', 'Parrot', 'Penguin', 'Tiger']\n"
     ]
    }
   ],
   "source": [
    "# Sorting the list\n",
    "animals.sort()\n",
    "print(animals)"
   ]
  },
  {
   "cell_type": "code",
   "execution_count": 3,
   "metadata": {},
   "outputs": [
    {
     "name": "stdout",
     "output_type": "stream",
     "text": [
      "number of items in the list are  7\n"
     ]
    }
   ],
   "source": [
    "#Printing number of items in the list\n",
    "print(\"number of items in the list are \",len(animals))"
   ]
  },
  {
   "cell_type": "code",
   "execution_count": 4,
   "metadata": {},
   "outputs": [
    {
     "name": "stdout",
     "output_type": "stream",
     "text": [
      "new list is ['Crocodile', 'Elephant', 'Giraffes', 'Lion', 'Parrot', 'Tiger']\n",
      "number of items in the new list is 6\n"
     ]
    }
   ],
   "source": [
    "# Removing an animal\n",
    "i=5 # The animal in the following index i is removed\n",
    "animals2=animals[:i]+animals[i+1:]\n",
    "\n",
    "print(\"new list is\",animals2)\n",
    "print(\"number of items in the new list is\",len(animals2))"
   ]
  },
  {
   "cell_type": "code",
   "execution_count": 5,
   "metadata": {},
   "outputs": [
    {
     "name": "stdout",
     "output_type": "stream",
     "text": [
      "new list is ['Crocodile', 'Elephant', 'Giraffes', 'Parrot', 'Penguin', 'Tiger']\n",
      "number of items in the new list is 6\n"
     ]
    }
   ],
   "source": [
    "# Using remove to remove an animal instead of the above manner.\n",
    "animals.remove('Lion')\n",
    "\n",
    "#new list\n",
    "print(\"new list is\",animals)\n",
    "# length of the new list\n",
    "print(\"number of items in the new list is\",len(animals))\n"
   ]
  },
  {
   "cell_type": "code",
   "execution_count": 6,
   "metadata": {},
   "outputs": [
    {
     "name": "stdout",
     "output_type": "stream",
     "text": [
      "['Crocodile', 'Elephant', 'Giraffes', 'Parrot', 'Penguin', 'Tiger', 'Ostrich']\n"
     ]
    }
   ],
   "source": [
    "# Adding Ostrich\n",
    "animals.append('Ostrich')\n",
    "print(animals)"
   ]
  },
  {
   "cell_type": "code",
   "execution_count": 7,
   "metadata": {},
   "outputs": [
    {
     "name": "stdout",
     "output_type": "stream",
     "text": [
      "['Crocodile', 'Elephant', 'Giraffes', 'Parrot', 'Penguin', 'Tiger', 'Ostrich', 'Crocodile', 'Elephant', 'Giraffes', 'Parrot', 'Penguin', 'Tiger', 'Ostrich', 'Crocodile', 'Elephant', 'Giraffes', 'Parrot', 'Penguin', 'Tiger', 'Ostrich']\n"
     ]
    }
   ],
   "source": [
    "# Each element repeats 3 times\n",
    "new_list = animals*3\n",
    "print(new_list)"
   ]
  },
  {
   "cell_type": "markdown",
   "metadata": {},
   "source": [
    "**Problem 2 (5 pts)**: Now imagine that you have gone to the zoo to see your favorite animals listed in Problem 1. Create a dictionary that contains the names of the animals as keys and counts for each animal as the values. (For example, if there are 3 giraffes at the zoo, the key would be \"giraffe\" and the value would be 3.) The counts should just be made-up counts. Then, complete the following steps using python. *Each step should be completed in a different cell and your results should be printed with `print()`.*\n",
    "\n",
    "1. Write code that counts how many animals total you observed. (In other words, add up all of the animal counts.)\n",
    "2. Add an animal \"monkey\" to your dictionary and give it a count of 5.\n",
    "3. Print out a list of the *keys* and a list of the *values* in your dictionary (i.e., the animal names and the counts).\n",
    "4. Change the count for one of the animals in your dictionary (i.e., monkey's count 5 to 8).\n",
    "5. Remove a key-value pair from your dictionary."
   ]
  },
  {
   "cell_type": "code",
   "execution_count": 8,
   "metadata": {},
   "outputs": [],
   "source": [
    "# Creating dictionary of animals and number of them. \n",
    "\n",
    "animals = {\"Lion\":5,\"Tiger\":6,\"Crocodile\":10,\"Giraffes\":4,\"Penguin\":4,\"Parrot\":6,\"Elephant\":2}"
   ]
  },
  {
   "cell_type": "code",
   "execution_count": 9,
   "metadata": {},
   "outputs": [
    {
     "name": "stdout",
     "output_type": "stream",
     "text": [
      "total no.of animals are 37\n"
     ]
    }
   ],
   "source": [
    "# Counting total number of animals\n",
    "count=0\n",
    "for animal in animals:\n",
    "    count+=animals[animal]\n",
    "print(\"total no.of animals are\",count)    "
   ]
  },
  {
   "cell_type": "code",
   "execution_count": 10,
   "metadata": {
    "scrolled": true
   },
   "outputs": [
    {
     "name": "stdout",
     "output_type": "stream",
     "text": [
      "{'Lion': 5, 'Tiger': 6, 'Crocodile': 10, 'Giraffes': 4, 'Penguin': 4, 'Parrot': 6, 'Elephant': 2, 'Monkey': 5}\n"
     ]
    }
   ],
   "source": [
    "# Adding monkey and its value\n",
    "animals[\"Monkey\"]=5\n",
    "print(animals)"
   ]
  },
  {
   "cell_type": "code",
   "execution_count": 11,
   "metadata": {},
   "outputs": [
    {
     "name": "stdout",
     "output_type": "stream",
     "text": [
      "dict_keys(['Lion', 'Tiger', 'Crocodile', 'Giraffes', 'Penguin', 'Parrot', 'Elephant', 'Monkey'])\n",
      "dict_values([5, 6, 10, 4, 4, 6, 2, 5])\n"
     ]
    }
   ],
   "source": [
    "# Printing keys\n",
    "print(animals.keys())\n",
    "#Printing Values\n",
    "print(animals.values())\n"
   ]
  },
  {
   "cell_type": "code",
   "execution_count": 12,
   "metadata": {},
   "outputs": [
    {
     "name": "stdout",
     "output_type": "stream",
     "text": [
      "{'Lion': 5, 'Tiger': 6, 'Crocodile': 10, 'Giraffes': 4, 'Penguin': 4, 'Parrot': 6, 'Elephant': 2, 'Monkey': 8}\n"
     ]
    }
   ],
   "source": [
    "# Changing the value of a key \"Monkey\"\n",
    "animals[\"Monkey\"]=8\n",
    "print(animals)"
   ]
  },
  {
   "cell_type": "code",
   "execution_count": 13,
   "metadata": {},
   "outputs": [
    {
     "name": "stdout",
     "output_type": "stream",
     "text": [
      "{'Lion': 5, 'Tiger': 6, 'Crocodile': 10, 'Giraffes': 4, 'Penguin': 4, 'Parrot': 6, 'Elephant': 2}\n"
     ]
    }
   ],
   "source": [
    "# Removing key-value pair whose key is Monkey\n",
    "del(animals[\"Monkey\"])\n",
    "print(animals)"
   ]
  }
 ],
 "metadata": {
  "kernelspec": {
   "display_name": "Python 3",
   "language": "python",
   "name": "python3"
  },
  "language_info": {
   "codemirror_mode": {
    "name": "ipython",
    "version": 3
   },
   "file_extension": ".py",
   "mimetype": "text/x-python",
   "name": "python",
   "nbconvert_exporter": "python",
   "pygments_lexer": "ipython3",
   "version": "3.6.5"
  }
 },
 "nbformat": 4,
 "nbformat_minor": 1
}
