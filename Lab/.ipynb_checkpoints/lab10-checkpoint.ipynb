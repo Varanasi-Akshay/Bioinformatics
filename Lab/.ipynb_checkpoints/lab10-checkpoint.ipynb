{
 "cells": [
  {
   "cell_type": "markdown",
   "metadata": {},
   "source": [
    "# Lab Worksheet 10"
   ]
  },
  {
   "cell_type": "markdown",
   "metadata": {},
   "source": [
    "In bioinformatics, we are often interested in determining whether or not two DNA or amino acid sequences are similar. One simple measure of similarity is called pairwise sequence identity. To calculate pairwise sequence identity, we take two sequences, count the number of positions in which both sequences share the same nucleotide or amino acid, and then divide by the total number of positions. For example, say we have these two DNA sequences: "
   ]
  },
  {
   "cell_type": "markdown",
   "metadata": {},
   "source": [
    "```      \n",
    "      Position: 1 2 3 4 5 6\n",
    "    Sequence 1: A T C G T A\n",
    "    Sequence 2: A T G A G A\n",
    "Identical(y/n): y y n n n y \n",
    "```"
   ]
  },
  {
   "cell_type": "markdown",
   "metadata": {},
   "source": [
    "There are 3 positions that match out of 6 total positions, so the sequence identity is 50% (3/6)."
   ]
  },
  {
   "cell_type": "markdown",
   "metadata": {},
   "source": [
    "**Problem 1:** Write code that outputs the example above to a CSV file. The CSV file should be written in **tidy** format, and it should contain one column for `position`, one column for `Sequence 1`, one column for `Sequence 2`, and one column for `Identical`. Use `sequence1` and `sequence2` to write a CSV file. Your code should generate a number for a position and check each position for a match. Once you produced a file, verify that the file was written correctly by opening it in R Studio."
   ]
  },
  {
   "cell_type": "code",
   "execution_count": 4,
   "metadata": {},
   "outputs": [],
   "source": [
    "sequence1 = \"ATCGTA\"\n",
    "sequence2 = \"ATGAGA\"\n",
    "\n",
    "# Your code goes here.\n",
    "file_csv = open(\"Sequence.csv\",\"w\")\n",
    "file_csv.write(\" \\\"Position\\\",\\\"Sequence 1\\\",\\\"Sequence 2\\\",\\\"Identical (y/n)\\\" \\n\")\n",
    "for i in range(len(sequence1)):\n",
    "    if sequence1[i]==sequence2[i]:\n",
    "        file_csv.write(str(i+1)+\",\"+sequence1[i]+\",\"+sequence2[i]+\",y \\n\")\n",
    "    else:\n",
    "        file_csv.write(str(i+1)+\",\"+sequence1[i]+\",\"+sequence2[i]+\",n  \\n\")\n",
    "file_csv.close()    \n"
   ]
  },
  {
   "cell_type": "markdown",
   "metadata": {},
   "source": [
    "**Problem 2:** Write a function that calculates the pairwise sequence identity for any two sequences of the same length. (Do not worry about properly aligning the two sequences. Sequence alignment is a concept we will return to later.) Your function should take two arguments: `seq1` and `seq2`. Make sure that your function checks for equal sequence lengths. If the input sequences are of different lengths, your function should return an error message. Otherwise, your function should return the pairwise sequence identity as a percentage.\n",
    "\n",
    "Finally, use your function to calculate the pairwise sequence identity of the two amino acid sequences below."
   ]
  },
  {
   "cell_type": "code",
   "execution_count": 6,
   "metadata": {},
   "outputs": [
    {
     "data": {
      "text/plain": [
       "96.32352941176471"
      ]
     },
     "execution_count": 6,
     "metadata": {},
     "output_type": "execute_result"
    }
   ],
   "source": [
    "mouse_histone = \"MARTKQTARKSTGGKAPRKQLATKAARKSAPATGGVKKPHRYRPLTVALREIRRYQKSTELLIRKLPFQRLVREIAQDFKTDLRFQSSAVMALQEACEAYLVGLFEDTNLCAIHAKRVTIMPKDIQLARRIRGERA\"\n",
    "human_histone = \"MARTKQTARKSTGGKAPRKQLATKAQRKSARATGGVKKPHRYRPGTVALREIRRYQKSTELLIRKLPFQRLVTEIAQDFKTDLRFQSSAVNALQEACEAYLVGLFEDTNLCAIHAKRVTIMPKDIQLARRIRGERA\"\n",
    "\n",
    "# Your code goes here.\n",
    "\n",
    "def pairwise(seq1,seq2):\n",
    "    if len(seq1)!=len(seq2):\n",
    "        print(\"Not equal sequence length\")\n",
    "        pairwise_id=0\n",
    "    else: \n",
    "        count = 0\n",
    "        for i in range(len(seq1)):\n",
    "            if seq1[i]==seq2[i]:\n",
    "                count+=1\n",
    "        pairwise_id=count*100/len(seq1)\n",
    "    \n",
    "    return pairwise_id\n",
    "    \n",
    "pairwise(mouse_histone,human_histone)    "
   ]
  },
  {
   "cell_type": "markdown",
   "metadata": {},
   "source": [
    "<br><br>\n",
    "\n",
    "\n",
    "**Problem 3:** Write a function that counts the occurence of each amino acid in a sequence and writes them to a CSV file. Amino acids in the output file should appear in the alphabetical order. Your function should write a file in **tidy** format. Use your function to output amino acid counts in sequences `mouse_histone` and `human_histone` from the previous problem. **HINT:** You can use `sorted()` to sort dictionary keys."
   ]
  },
  {
   "cell_type": "code",
   "execution_count": 11,
   "metadata": {},
   "outputs": [
    {
     "ename": "AttributeError",
     "evalue": "'dict_keys' object has no attribute 'sorted'",
     "output_type": "error",
     "traceback": [
      "\u001b[0;31m---------------------------------------------------------------------------\u001b[0m",
      "\u001b[0;31mAttributeError\u001b[0m                            Traceback (most recent call last)",
      "\u001b[0;32m<ipython-input-11-7473e9736379>\u001b[0m in \u001b[0;36m<module>\u001b[0;34m()\u001b[0m\n\u001b[1;32m     12\u001b[0m     \u001b[0mprint\u001b[0m\u001b[0;34m(\u001b[0m\u001b[0mamino_acid\u001b[0m\u001b[0;34m)\u001b[0m\u001b[0;34m\u001b[0m\u001b[0m\n\u001b[1;32m     13\u001b[0m \u001b[0;34m\u001b[0m\u001b[0m\n\u001b[0;32m---> 14\u001b[0;31m \u001b[0mamino\u001b[0m\u001b[0;34m(\u001b[0m\u001b[0mhuman_histone\u001b[0m\u001b[0;34m)\u001b[0m\u001b[0;34m\u001b[0m\u001b[0m\n\u001b[0m",
      "\u001b[0;32m<ipython-input-11-7473e9736379>\u001b[0m in \u001b[0;36mamino\u001b[0;34m(seq)\u001b[0m\n\u001b[1;32m      9\u001b[0m         \u001b[0;32melse\u001b[0m\u001b[0;34m:\u001b[0m\u001b[0;34m\u001b[0m\u001b[0m\n\u001b[1;32m     10\u001b[0m             \u001b[0mamino_acid\u001b[0m\u001b[0;34m[\u001b[0m\u001b[0mi\u001b[0m\u001b[0;34m]\u001b[0m\u001b[0;34m=\u001b[0m\u001b[0;36m1\u001b[0m\u001b[0;34m\u001b[0m\u001b[0m\n\u001b[0;32m---> 11\u001b[0;31m     \u001b[0mamino_acid\u001b[0m\u001b[0;34m.\u001b[0m\u001b[0mkeys\u001b[0m\u001b[0;34m(\u001b[0m\u001b[0;34m)\u001b[0m\u001b[0;34m.\u001b[0m\u001b[0msorted\u001b[0m\u001b[0;34m(\u001b[0m\u001b[0;34m)\u001b[0m\u001b[0;34m\u001b[0m\u001b[0m\n\u001b[0m\u001b[1;32m     12\u001b[0m     \u001b[0mprint\u001b[0m\u001b[0;34m(\u001b[0m\u001b[0mamino_acid\u001b[0m\u001b[0;34m)\u001b[0m\u001b[0;34m\u001b[0m\u001b[0m\n\u001b[1;32m     13\u001b[0m \u001b[0;34m\u001b[0m\u001b[0m\n",
      "\u001b[0;31mAttributeError\u001b[0m: 'dict_keys' object has no attribute 'sorted'"
     ]
    }
   ],
   "source": [
    "\n",
    "# Your code goes here.\n",
    "\n",
    "def amino(seq):\n",
    "    amino_acid = {}\n",
    "    for i in seq:\n",
    "        if i in amino_acid.keys():\n",
    "            amino_acid[i]+=1\n",
    "        else:\n",
    "            amino_acid[i]=1\n",
    "            \n",
    "    print(amino_acid)      \n",
    "    \n",
    "    with open(\"amino_acid.csv\",\"w\") as output:\n",
    "        output.write(\"\\\"Aminoacid\\\",\\\"count\\\"\")\n",
    "        for i in sorted(amino_acid.keys):\n",
    "            output.write()\n",
    "       \n",
    "    \n",
    "    \n",
    "\n",
    "amino(human_histone)"
   ]
  }
 ],
 "metadata": {
  "kernelspec": {
   "display_name": "Python 3",
   "language": "python",
   "name": "python3"
  },
  "language_info": {
   "codemirror_mode": {
    "name": "ipython",
    "version": 3
   },
   "file_extension": ".py",
   "mimetype": "text/x-python",
   "name": "python",
   "nbconvert_exporter": "python",
   "pygments_lexer": "ipython3",
   "version": "3.6.5"
  }
 },
 "nbformat": 4,
 "nbformat_minor": 1
}
