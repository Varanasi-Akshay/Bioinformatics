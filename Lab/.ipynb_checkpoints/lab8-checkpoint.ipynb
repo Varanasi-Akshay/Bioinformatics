{
 "cells": [
  {
   "cell_type": "markdown",
   "metadata": {},
   "source": [
    "# Lab Worksheet 8"
   ]
  },
  {
   "cell_type": "markdown",
   "metadata": {},
   "source": [
    "**Problem 1:** Using only list indexing and the string function `split()`, write code that extracts the weight (here the number 7) from the string `data` defined below, and print out the result. What is the type of your final result? Use python to find out."
   ]
  },
  {
   "cell_type": "code",
   "execution_count": 1,
   "metadata": {},
   "outputs": [],
   "source": [
    "data_string = \"height: 15; weight: 7; width: 5;\""
   ]
  },
  {
   "cell_type": "code",
   "execution_count": 7,
   "metadata": {},
   "outputs": [
    {
     "name": "stdout",
     "output_type": "stream",
     "text": [
      "The weight is  7\n"
     ]
    }
   ],
   "source": [
    "datalist = data_string.split(';')\n",
    "datalist\n",
    "weight=\"weight\"\n",
    "for data in datalist:\n",
    "    if weight in data:\n",
    "        val = data.split(':')\n",
    "        print(\"The weight is\",val[1])\n",
    "    "
   ]
  },
  {
   "cell_type": "markdown",
   "metadata": {},
   "source": [
    "**Problem 2:** Using only string indexing, write code that does each of the following. In each case, store the result in a new variable and print its contents.\n",
    "\n",
    "- Extract the first 10 characters from the string `data_string`.\n",
    "- Extract characters 27 to 52 (corresponding to the upper-case letters of the alphabet) from the string `data_string`.\n",
    "- Extract characters 1 to 26 (corresponding to the lower-case letters of the alphabet) and characters 53 to 62 (corresponding to the numbers) from the string `data_string` and combine them into a single, new string that should look like this: \"abcdefghijklmnopqrstuvwxyz0123456789\"\n",
    "- Replace the letter at position 5 in `data_string` (the lower-case e) with a captial X. Do **not** use the function `replace()`.\n",
    "- Take the resulting string from the previous point and convert it all to upper case."
   ]
  },
  {
   "cell_type": "code",
   "execution_count": 8,
   "metadata": {},
   "outputs": [],
   "source": [
    "data_string = \"abcdefghijklmnopqrstuvwxyzABCDEFGHIJKLMNOPQRSTUVWXYZ0123456789\"\n"
   ]
  },
  {
   "cell_type": "code",
   "execution_count": 9,
   "metadata": {},
   "outputs": [
    {
     "name": "stdout",
     "output_type": "stream",
     "text": [
      "abcdefghij\n"
     ]
    }
   ],
   "source": [
    "print(data_string[:10])"
   ]
  },
  {
   "cell_type": "code",
   "execution_count": 12,
   "metadata": {},
   "outputs": [
    {
     "name": "stdout",
     "output_type": "stream",
     "text": [
      "ABCDEFGHIJKLMNOPQRSTUVWXYZ\n"
     ]
    }
   ],
   "source": [
    "print(data_string[26:52])"
   ]
  },
  {
   "cell_type": "code",
   "execution_count": 14,
   "metadata": {},
   "outputs": [
    {
     "name": "stdout",
     "output_type": "stream",
     "text": [
      "abcdefghijklmnopqrstuvwxyz0123456789\n"
     ]
    }
   ],
   "source": [
    "new_string = data_string[:26]+data_string[52:62]\n",
    "print(new_string)"
   ]
  },
  {
   "cell_type": "code",
   "execution_count": 18,
   "metadata": {},
   "outputs": [
    {
     "name": "stdout",
     "output_type": "stream",
     "text": [
      "abcdXfghijklmnopqrstuvwxyz0123456789\n"
     ]
    }
   ],
   "source": [
    "new_string2 = new_string[0:4]+'X'+new_string[5:]\n",
    "print(new_string2)"
   ]
  },
  {
   "cell_type": "code",
   "execution_count": 20,
   "metadata": {},
   "outputs": [
    {
     "data": {
      "text/plain": [
       "'ABCDXFGHIJKLMNOPQRSTUVWXYZ0123456789'"
      ]
     },
     "execution_count": 20,
     "metadata": {},
     "output_type": "execute_result"
    }
   ],
   "source": [
    "new_string2.upper()"
   ]
  }
 ],
 "metadata": {
  "kernelspec": {
   "display_name": "Python 3",
   "language": "python",
   "name": "python3"
  },
  "language_info": {
   "codemirror_mode": {
    "name": "ipython",
    "version": 3
   },
   "file_extension": ".py",
   "mimetype": "text/x-python",
   "name": "python",
   "nbconvert_exporter": "python",
   "pygments_lexer": "ipython3",
   "version": "3.6.5"
  }
 },
 "nbformat": 4,
 "nbformat_minor": 1
}
