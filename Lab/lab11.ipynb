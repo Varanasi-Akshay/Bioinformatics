{
 "cells": [
  {
   "cell_type": "markdown",
   "metadata": {},
   "source": [
    "# Lab Worksheet 11"
   ]
  },
  {
   "cell_type": "markdown",
   "metadata": {},
   "source": [
    "**Problem 1:**\n",
    "\n",
    "(a) Download the Medline record for the publication with pubmed id 25502413 and parse it with the `Medline.parse()` function. Then print a list of all key-value pairs returned in that record. \n",
    "\n",
    "(b) Use an Entrez esearch query of the pubmed database to find out how many publications \"Meyer AG\" wrote in 2014.\n",
    "\n",
    "(c) From the results of part (b), compile a list of all the publication titles of \"Meyer AG\" in 2014."
   ]
  },
  {
   "cell_type": "code",
   "execution_count": 7,
   "metadata": {},
   "outputs": [
    {
     "name": "stdout",
     "output_type": "stream",
     "text": [
      "PMID:25502413\n",
      "OWN:NLM\n",
      "STAT:MEDLINE\n",
      "DCOM:20151001\n",
      "LR:20181113\n",
      "IS:1932-6203 (Electronic) 1932-6203 (Linking)\n",
      "VI:9\n",
      "IP:12\n",
      "DP:2014\n",
      "TI:Predicting growth conditions from internal metabolic fluxes in an in-silico model of E. coli.\n",
      "PG:e114608\n",
      "LID:10.1371/journal.pone.0114608 [doi]\n",
      "AB:A widely studied problem in systems biology is to predict bacterial phenotype from growth conditions, using mechanistic models such as flux balance analysis (FBA). However, the inverse prediction of growth conditions from phenotype is rarely considered. Here we develop a computational framework to carry out this inverse prediction on a computational model of bacterial metabolism. We use FBA to calculate bacterial phenotypes from growth conditions in E. coli, and then we assess how accurately we can predict the original growth conditions from the phenotypes. Prediction is carried out via regularized multinomial regression. Our analysis provides several important physiological and statistical insights. First, we show that by analyzing metabolic end products we can consistently predict growth conditions. Second, prediction is reliable even in the presence of small amounts of impurities. Third, flux through a relatively small number of reactions per growth source ( approximately 10) is sufficient for accurate prediction. Fourth, combining the predictions from two separate models, one trained only on carbon sources and one only on nitrogen sources, performs better than models trained to perform joint prediction. Finally, that separate predictions perform better than a more sophisticated joint prediction scheme suggests that carbon and nitrogen utilization pathways, despite jointly affecting cellular growth, may be fairly decoupled in terms of their dependence on specific assortments of molecular precursors.\n",
      "FAU:['Sridhara, Viswanadham', 'Meyer, Austin G', 'Rai, Piyush', 'Barrick, Jeffrey E', 'Ravikumar, Pradeep', 'Segre, Daniel', 'Wilke, Claus O']\n",
      "AU:['Sridhara V', 'Meyer AG', 'Rai P', 'Barrick JE', 'Ravikumar P', 'Segre D', 'Wilke CO']\n",
      "AD:Center for Computational Biology and Bioinformatics, The University of Texas at Austin, Austin, Texas, United States of America. Center for Computational Biology and Bioinformatics, The University of Texas at Austin, Austin, Texas, United States of America; Institute for Cellular and Molecular Biology, The University of Texas at Austin, Austin, Texas, United States of America. Department of Computer Science, The University of Texas at Austin, Austin, Texas, United States of America. Center for Computational Biology and Bioinformatics, The University of Texas at Austin, Austin, Texas, United States of America; Institute for Cellular and Molecular Biology, The University of Texas at Austin, Austin, Texas, United States of America; Center for Systems and Synthetic Biology, The University of Texas at Austin, Austin, Texas, United States of America; Department of Molecular Biosciences, The University of Texas at Austin, Austin, Texas, United States of America. Department of Computer Science, The University of Texas at Austin, Austin, Texas, United States of America. Department of Biology and Bioinformatics Program, Boston University, Boston, Massachusetts, United States of America. Center for Computational Biology and Bioinformatics, The University of Texas at Austin, Austin, Texas, United States of America; Institute for Cellular and Molecular Biology, The University of Texas at Austin, Austin, Texas, United States of America; Center for Systems and Synthetic Biology, The University of Texas at Austin, Austin, Texas, United States of America; Department of Integrative Biology, The University of Texas at Austin, Austin, Texas, United States of America.\n",
      "LA:['eng']\n",
      "PT:['Journal Article', \"Research Support, Non-U.S. Gov't\"]\n",
      "DEP:20141212\n",
      "PL:United States\n",
      "TA:PLoS One\n",
      "JT:PloS one\n",
      "JID:101285081\n",
      "RN:['7440-44-0 (Carbon)', 'N762921K75 (Nitrogen)']\n",
      "SB:IM\n",
      "MH:['Carbon/metabolism', '*Computer Simulation', 'Escherichia coli/cytology/*growth & development/*metabolism', '*Metabolic Flux Analysis', '*Models, Biological', 'Nitrogen/metabolism']\n",
      "PMC:PMC4264753\n",
      "EDAT:2014/12/17 06:00\n",
      "MHDA:2015/10/02 06:00\n",
      "CRDT:['2014/12/16 06:00']\n",
      "PHST:['2014/06/24 00:00 [received]', '2014/11/11 00:00 [accepted]', '2014/12/16 06:00 [entrez]', '2014/12/17 06:00 [pubmed]', '2015/10/02 06:00 [medline]']\n",
      "AID:['10.1371/journal.pone.0114608 [doi]', 'PONE-D-14-28270 [pii]']\n",
      "PST:epublish\n",
      "SO:PLoS One. 2014 Dec 12;9(12):e114608. doi: 10.1371/journal.pone.0114608. eCollection 2014.\n"
     ]
    }
   ],
   "source": [
    "# Problem 1a\n",
    "\n",
    "from Bio import Entrez, SeqIO, Medline\n",
    "Entrez.email = \"akshayvaranasi@austin.utexas.edu\" # put your email here\n",
    "\n",
    "##HINT: You will need to use the following line in your code\n",
    "#records = Medline.parse(handle)\n",
    "#record = list(records)[0] \n",
    "\n",
    "# Your code goes here\n",
    "\n",
    "handle = Entrez.efetch(db=\"pubmed\", id=\"25502413\", rettype=\"medline\", retmode=\"text\")\n",
    "records = Medline.parse(handle)\n",
    "record = list(records)[0]\n",
    "for key in record:\n",
    "    print(str(key)+\":\"+str(record[key])) # author list\n",
    "    #print(key)\n",
    "handle.close()\n",
    "\n"
   ]
  },
  {
   "cell_type": "code",
   "execution_count": 16,
   "metadata": {},
   "outputs": [
    {
     "name": "stdout",
     "output_type": "stream",
     "text": [
      "Publications found: ['25502413', '25432719', '25217382', '24878198', '24847981', '24624315', '24239457']\n",
      "Number of publications: 7\n"
     ]
    }
   ],
   "source": [
    "# Problem 1a\n",
    "\n",
    "handle = Entrez.esearch(db=\"pubmed\", # database to search\n",
    "                        term=\"Meyer AG[Author] AND 2014[Date - Publication]\"\n",
    ", # search term\n",
    "                        retmax=10 # number of results that are returned\n",
    "                       )\n",
    "record = Entrez.read(handle)\n",
    "handle.close()\n",
    "\n",
    "# search returns PubMed IDs (pmids)\n",
    "pmid_list = record[\"IdList\"]\n",
    "print(\"Publications found:\", pmid_list)\n",
    "print(\"Number of publications:\", len(pmid_list))"
   ]
  },
  {
   "cell_type": "code",
   "execution_count": 17,
   "metadata": {},
   "outputs": [
    {
     "name": "stdout",
     "output_type": "stream",
     "text": [
      "['Sridhara V', 'Meyer AG', 'Rai P', 'Barrick JE', 'Ravikumar P', 'Segre D', 'Wilke CO']\n",
      "Predicting growth conditions from internal metabolic fluxes in an in-silico model of E. coli.\n",
      "PLoS One. 2014 Dec 12;9(12):e114608. doi: 10.1371/journal.pone.0114608. eCollection 2014.\n",
      "\n",
      "['Barrick JE', 'Colburn G', 'Deatherage DE', 'Traverse CC', 'Strand MD', 'Borges JJ', 'Knoester DB', 'Reba A', 'Meyer AG']\n",
      "Identifying structural variation in haploid microbial genomes from short-read resequencing data using breseq.\n",
      "BMC Genomics. 2014 Nov 29;15:1039. doi: 10.1186/1471-2164-15-1039.\n",
      "\n",
      "['Shahmoradi A', 'Sydykova DK', 'Spielman SJ', 'Jackson EL', 'Dawson ET', 'Meyer AG', 'Wilke CO']\n",
      "Predicting evolutionary site variability from structure in viral proteins: buriedness, packing, flexibility, and design.\n",
      "J Mol Evol. 2014 Oct;79(3-4):130-42. doi: 10.1007/s00239-014-9644-x. Epub 2014 Sep 13.\n",
      "\n",
      "['Churches QI', 'Caine J', 'Cavanagh K', 'Epa VC', 'Waddington L', 'Tranberg CE', 'Meyer AG', 'Varghese JN', 'Streltsov V', 'Duggan PJ']\n",
      "Naturally occurring polyphenolic inhibitors of amyloid beta aggregation.\n",
      "Bioorg Med Chem Lett. 2014 Jul 15;24(14):3108-12. doi: 10.1016/j.bmcl.2014.05.008. Epub 2014 May 13.\n",
      "\n",
      "['Lim Z', 'Duggan PJ', 'Meyer AG', 'Tuck KL']\n",
      "An iterative in silico and modular synthetic approach to aqueous soluble tercyclic alpha-helix mimetics.\n",
      "Org Biomol Chem. 2014 Jul 7;12(25):4432-44. doi: 10.1039/c4ob00647j.\n",
      "\n",
      "['Meyer AG', 'Sawyer SL', 'Ellington AD', 'Wilke CO']\n",
      "Analyzing machupo virus-receptor binding by molecular dynamics simulations.\n",
      "PeerJ. 2014 Feb 27;2:e266. doi: 10.7717/peerj.266. eCollection 2014.\n",
      "\n",
      "['Fuson K', 'Rice A', 'Mahling R', 'Snow A', 'Nayak K', 'Shanbhogue P', 'Meyer AG', 'Redpath GM', 'Hinderliter A', 'Cooper ST', 'Sutton RB']\n",
      "Alternate splicing of dysferlin C2A confers Ca(2)(+)-dependent and Ca(2)(+)-independent binding for membrane repair.\n",
      "Structure. 2014 Jan 7;22(1):104-15. doi: 10.1016/j.str.2013.10.001. Epub 2013 Nov 14.\n",
      "\n"
     ]
    }
   ],
   "source": [
    "# Problem 1c\n",
    "\n",
    "# handle = Entrez.esearch(db=\"pubmed\", # database to search\n",
    "#                         term=\"Meyer AG[Author] AND 2014[Date - Publication]\"\n",
    "# , # search term\n",
    "#                         #rettype=\"medline\",\n",
    "#                         retmax=10 # number of results that are returned\n",
    "#                        )\n",
    "#records = Medline.parse(handle)\n",
    "\n",
    "# record = Entrez.read(handle)\n",
    "# print(record)\n",
    "# # for record in record:\n",
    "# #     print(record['AU']) # author list\n",
    "# #     print(record['TI']) # title\n",
    "# #     print(record['SO']) # source (reference)\n",
    "# #     print()\n",
    "# handle.close()\n",
    "handle = Entrez.efetch(db=\"pubmed\", id=pmid_list, rettype=\"medline\", retmode=\"text\")\n",
    "records = Medline.parse(handle)\n",
    "for record in records:\n",
    "    print(record['AU']) # author list\n",
    "    print(record['TI']) # title\n",
    "    print(record['SO']) # source (reference)\n",
    "    print()\n",
    "handle.close()"
   ]
  }
 ],
 "metadata": {
  "kernelspec": {
   "display_name": "Python 3",
   "language": "python",
   "name": "python3"
  },
  "language_info": {
   "codemirror_mode": {
    "name": "ipython",
    "version": 3
   },
   "file_extension": ".py",
   "mimetype": "text/x-python",
   "name": "python",
   "nbconvert_exporter": "python",
   "pygments_lexer": "ipython3",
   "version": "3.6.5"
  }
 },
 "nbformat": 4,
 "nbformat_minor": 1
}
