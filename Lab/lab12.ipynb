{
 "cells": [
  {
   "cell_type": "markdown",
   "metadata": {},
   "source": [
    "# Lab Worksheet 12"
   ]
  },
  {
   "cell_type": "markdown",
   "metadata": {},
   "source": [
    "**Problem 1:** Use Biopython to download 10 influenza hemagglutinin sequences like we did in the Class 21 worksheet. Print the list of genbank identifiers, then fetch and save all of the records to a file called \"influenza_HA.gb\"."
   ]
  },
  {
   "cell_type": "code",
   "execution_count": 1,
   "metadata": {},
   "outputs": [
    {
     "name": "stdout",
     "output_type": "stream",
     "text": [
      "['1609540883', '1609540874', '1609540845', '1609540826', '1609540807', '1609540788', '1608710259', '1608708049', '1608708047', '1608708045']\n"
     ]
    }
   ],
   "source": [
    "# You will need Entrez and SeqIO to solve this problem\n",
    "from Bio import Entrez, SeqIO\n",
    "\n",
    "Entrez.email = \"akshayvaranasi@utexas.edu\"\n",
    "\n",
    "# Your code goes here\n",
    "# let's do a search for influenza H1N1 viruses from Texas\n",
    "handle = Entrez.esearch(db=\"nucleotide\", # database to search\n",
    "                        term=\"influenza a virus texas h1n1 hemagglutinin complete cds\", # search term\n",
    "                        retmax=10 # number of results that are returned\n",
    "                        )\n",
    "\n",
    "record = Entrez.read(handle)\n",
    "handle.close()\n",
    "gi_list = record[\"IdList\"] # list of genbank identifiers found\n",
    "print(gi_list)    \n",
    "handle = Entrez.efetch(db=\"nucleotide\", id=gi_list, rettype=\"gb\", retmode=\"text\")\n",
    "data = handle.read()\n",
    "handle.close()\n",
    "output = open(\"influenza_HA.gb\",\"w\")\n",
    "output.write(data)\n",
    "output.close()"
   ]
  },
  {
   "cell_type": "code",
   "execution_count": null,
   "metadata": {},
   "outputs": [],
   "source": []
  },
  {
   "cell_type": "markdown",
   "metadata": {},
   "source": [
    "**Problem 2:** Restriction enzymes cut DNA by recognizing specific motifs (patterns in the DNA sequence usually less than 10 nucleotides). Some restriction enzymes recognize degenerate motifs. That is, they recognize multiple motifs that differ by only 1 or 2 nucleotides.\n",
    "\n",
    "Using your sequence file from Problem 1 and **regular expressions**, determine if any of the influenza sequences contain the following restriction sites:\n",
    "\n",
    "* EcoRI: GAATTC\n",
    "* BisI: GCNGC, where N represents any nucleotide"
   ]
  },
  {
   "cell_type": "code",
   "execution_count": 2,
   "metadata": {},
   "outputs": [
    {
     "name": "stdout",
     "output_type": "stream",
     "text": [
      "1\n",
      "1\n",
      "1\n",
      "1\n",
      "1\n",
      "1\n",
      "1\n",
      "1\n",
      "1\n",
      "1\n",
      "6\n",
      "10\n"
     ]
    }
   ],
   "source": [
    "# You'll need the re module to solve this problem\n",
    "import re\n",
    "from Bio import Entrez, SeqIO\n",
    "# Your code goes here\n",
    "inputfile=open(\"influenza_HA.gb\",\"r\")\n",
    "records = SeqIO.parse(inputfile, \"genbank\")\n",
    "\n",
    "\n",
    "eco_count=0\n",
    "bis_count=0\n",
    "\n",
    "for record in records:\n",
    "    match_eco = re.search(r\"GAATTC\",str(record.seq))\n",
    "    match_bis = re.search(r\"GC[ATCG]GC\",str(record.seq))\n",
    "    if match_eco:\n",
    "        eco_count+=1\n",
    "    if match_bis:\n",
    "        bis_count+=1\n",
    "    \n",
    "    \n",
    "inputfile.close()\n",
    "print(eco_count)\n",
    "print(bis_count)\n"
   ]
  },
  {
   "cell_type": "code",
   "execution_count": null,
   "metadata": {},
   "outputs": [],
   "source": []
  }
 ],
 "metadata": {
  "kernelspec": {
   "display_name": "Python 3",
   "language": "python",
   "name": "python3"
  },
  "language_info": {
   "codemirror_mode": {
    "name": "ipython",
    "version": 3
   },
   "file_extension": ".py",
   "mimetype": "text/x-python",
   "name": "python",
   "nbconvert_exporter": "python",
   "pygments_lexer": "ipython3",
   "version": "3.6.5"
  }
 },
 "nbformat": 4,
 "nbformat_minor": 1
}
