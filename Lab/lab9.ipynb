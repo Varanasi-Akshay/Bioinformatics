{
 "cells": [
  {
   "cell_type": "markdown",
   "metadata": {},
   "source": [
    "# Lab Worksheet 9"
   ]
  },
  {
   "cell_type": "markdown",
   "metadata": {},
   "source": [
    "**Problem 1:** Write a class `NameSet` that collects a unique set of names. Within the class, names should be stored in a list. `NameSet` should accept names in any format (upper case, lower case, etc.), but keep them capitalized. \n",
    "\n",
    "Hint - when solving this question, these string functions may be useful: `upper()`, `lower()`, and `capitalize()`."
   ]
  },
  {
   "cell_type": "code",
   "execution_count": 15,
   "metadata": {},
   "outputs": [
    {
     "name": "stdout",
     "output_type": "stream",
     "text": [
      "akshay\n",
      "Akshay\n"
     ]
    }
   ],
   "source": [
    "s = \"akshay\"\n",
    "s_cap = s.capitalize()\n",
    "print(s)\n",
    "print(s_cap)"
   ]
  },
  {
   "cell_type": "code",
   "execution_count": 18,
   "metadata": {},
   "outputs": [
    {
     "data": {
      "text/plain": [
       "['Tulip', 'Jasmine']"
      ]
     },
     "execution_count": 18,
     "metadata": {},
     "output_type": "execute_result"
    }
   ],
   "source": [
    "\n",
    "# Your code goes here.\n",
    "\n",
    "class NameSet:\n",
    "    \n",
    "    def __init__(self,name):\n",
    "        #self.name = name\n",
    "        self.name_list=[]\n",
    "    \n",
    "    def add(self,name_add):\n",
    "        toadd=name_add.capitalize()\n",
    "        if toadd in self.name_list:\n",
    "            pass\n",
    "        else:\n",
    "            self.name_list.append(toadd)\n",
    "        #self.name\n",
    "        #self.name_list.capitalize()\n",
    "\n",
    "#flowers = NameSet()\n",
    "flowers = NameSet(\"Rose\")\n",
    "flowers.add(\"Tulip\")\n",
    "flowers.name_list\n",
    "flowers.add(\"jasmine\")\n",
    "\n",
    "flowers.add(\"Jasmine\")\n",
    "flowers.name_list"
   ]
  },
  {
   "cell_type": "markdown",
   "metadata": {},
   "source": [
    "<br><br>\n",
    "\n",
    "**Problem 2:** Write a class `CountNuc` that stores the counts of A's, C's, G's, and T's in a DNA sequence. Your class should be able to accept both upper and lower case DNA sequences. Nucleotide counts in `CountNuc` should be stored in a dictionary. Once your class has been written, confirm your class operates correctly on a test string \"AGct\". After that, determine the counts of A's, C's, G's, and T's in `dna_string` string given below, and print the counts."
   ]
  },
  {
   "cell_type": "code",
   "execution_count": 23,
   "metadata": {},
   "outputs": [
    {
     "data": {
      "text/plain": [
       "dict_keys(['A', 'B'])"
      ]
     },
     "execution_count": 23,
     "metadata": {},
     "output_type": "execute_result"
    }
   ],
   "source": [
    "di={\"A\":0,\"B\":0}\n",
    "di.keys()"
   ]
  },
  {
   "cell_type": "code",
   "execution_count": 33,
   "metadata": {},
   "outputs": [],
   "source": [
    "# Your code goes here.\n",
    "\n",
    "class CountNuc:\n",
    "    \n",
    "    def __init__(self):\n",
    "        #self.name = name\n",
    "        self.count_dict={\"A\":0,\"C\":0,\"G\":0,\"T\":0}\n",
    "    \n",
    "    def counting(self,nuc):\n",
    "        nuc_upper = nuc.upper()\n",
    "        \n",
    "        for keys in self.count_dict:\n",
    "            count = 0\n",
    "            for i in nuc_upper:\n",
    "                if keys==i:\n",
    "                    count+=1\n",
    "            self.count_dict[keys]=count\n",
    "\n",
    "\n",
    "\n",
    "\n",
    "\n",
    "\n",
    "\n",
    "# Variable to check your class on\n",
    "dna_string = \"ATCGAGCTataCCGATACAGGcTGGTATAAAAgatTC\""
   ]
  },
  {
   "cell_type": "code",
   "execution_count": 40,
   "metadata": {},
   "outputs": [
    {
     "data": {
      "text/plain": [
       "{'A': 13, 'C': 7, 'G': 8, 'T': 9}"
      ]
     },
     "execution_count": 40,
     "metadata": {},
     "output_type": "execute_result"
    }
   ],
   "source": [
    "C = CountNuc()\n",
    "C.counting(\"AGct\")\n",
    "#D.count_dict()\n",
    "C.count_dict\n",
    "\n",
    "D = CountNuc()\n",
    "D.counting(dna_string)\n",
    "D.count_dict"
   ]
  },
  {
   "cell_type": "code",
   "execution_count": 26,
   "metadata": {},
   "outputs": [
    {
     "data": {
      "text/plain": [
       "'AB'"
      ]
     },
     "execution_count": 26,
     "metadata": {},
     "output_type": "execute_result"
    }
   ],
   "source": [
    "a=\"ab\"\n",
    "b=a.upper()\n",
    "b"
   ]
  }
 ],
 "metadata": {
  "kernelspec": {
   "display_name": "Python 3",
   "language": "python",
   "name": "python3"
  },
  "language_info": {
   "codemirror_mode": {
    "name": "ipython",
    "version": 3
   },
   "file_extension": ".py",
   "mimetype": "text/x-python",
   "name": "python",
   "nbconvert_exporter": "python",
   "pygments_lexer": "ipython3",
   "version": "3.6.5"
  }
 },
 "nbformat": 4,
 "nbformat_minor": 1
}
