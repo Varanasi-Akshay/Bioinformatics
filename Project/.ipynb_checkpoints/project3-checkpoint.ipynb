{
 "cells": [
  {
   "cell_type": "markdown",
   "metadata": {},
   "source": [
    "# Project 3\n",
    "\n",
    "*Akshay Kumar Varanasi (av32826)*\n",
    "\n",
    "\n",
    "## Instructions\n",
    "\n",
    "After completing this Jupyter notebook, please convert it to pdf and submit both the pdf and the original notebook on Canvas **no later than 4:00 pm on May 9, 2019**. The two documents will be graded jointly, so they must be consistent (as in, don't change the Jupyter notebook without also updating the converted pdf!).\n",
    "\n",
    "All results presented **must** have corresponding code. Any answers/results given without the corresponding python code that generated the result will be considered absent. All code reported in your final project document should work properly.\n",
    "\n",
    "Before submitting the Jupyter notebook part, please re-run all cells by clicking \"Kernel\" and selecting \"Restart & Run All.\"\n",
    "\n",
    "The project consists of two problems. For both problems, please follow these guidelines:\n",
    "\n",
    "- Final output needs to be nicely formatted and human readable. For example, if your result is a count, don't just print the value of the count, print \"The count is: ...\".\n",
    "- For each problem, limit your total code to less than 100 lines.\n",
    "- Write comments and explanatory text, so we understand what you are doing.\n",
    "- Do not print out large datasets, such as an entire genome, or a list of all genes in a genome, etc.\n",
    "- Verify that nothing of importance (code, comments, other text) is cut off in your final pdf. \n"
   ]
  },
  {
   "cell_type": "markdown",
   "metadata": {},
   "source": [
    "## Problem 1\n",
    "\n",
    "The bacteria called *Salmonella enterica* Typhimurium are pathogenic bacteria closely related to *E. coli*. They cause typhoid fever in humans. There are many different *S. enterica* Typhimurium strains, and here we will compare two such strains, LT2 and CT18. LT2 is the canonical strain that is most commonly used as a reference. CT18 is another widely used reference.\n",
    "\n",
    "Before we can work with these two genomes, we need to download them. Note: Running the next cell may take a few minutes."
   ]
  },
  {
   "cell_type": "code",
   "execution_count": 1,
   "metadata": {
    "scrolled": true
   },
   "outputs": [
    {
     "name": "stdout",
     "output_type": "stream",
     "text": [
      "Downloaded S. enterica LT2\n",
      "Downloaded S. enterica CT18\n"
     ]
    }
   ],
   "source": [
    "from Bio import Entrez\n",
    "Entrez.email = \"akshayvaranasi@utexas.edu\" # put your email here\n",
    "\n",
    "# Download S. enterica strain LT2 and write into file \"S_enterica_LT2.gb\":\n",
    "download_handle = Entrez.efetch(db=\"nucleotide\", id=\"NC_003197\", rettype=\"gbwithparts\", retmode=\"text\")\n",
    "out_handle = open(\"S_enterica_LT2.gb\", \"w\")\n",
    "out_handle.write(download_handle.read())\n",
    "download_handle.close()\n",
    "out_handle.close()\n",
    "print(\"Downloaded S. enterica LT2\")\n",
    "\n",
    "# Download S. enterica strain CT18 and write into file \"S_enterica_CT18.gb\":\n",
    "download_handle = Entrez.efetch(db=\"nucleotide\", id=\"NC_003198\", rettype=\"gbwithparts\", retmode=\"text\")\n",
    "out_handle = open(\"S_enterica_CT18.gb\", \"w\")\n",
    "out_handle.write(download_handle.read())\n",
    "download_handle.close()\n",
    "out_handle.close()\n",
    "print(\"Downloaded S. enterica CT18\")"
   ]
  },
  {
   "cell_type": "markdown",
   "metadata": {},
   "source": [
    "**Problem 1a (30 pts):** How many named protein-coding genes are in *S. enterica* LT2? And how many of these genes have synonyms in *S. enterica* CT18?\n",
    "\n",
    "Hint: Gene names have been defined for the LT2 strain. You can find these names in the \"gene\" qualifier of CDS features. When equivalent genes exist in CT18, they are listed under the \"gene_synonym\" qualifer of the CDS features. As an example, manually open the two genome files and look for the \"thrL\" gene in each genome."
   ]
  },
  {
   "cell_type": "markdown",
   "metadata": {},
   "source": [
    "After reading the two files using SeqIO, we loop over features in each record. In the loop, we look at feature type whether it is CDS or not. If it is CDS, we look for gene in qualifiers and store the names and the count of them in a dictionary. Since total number of such named genes was asked in the first part, we need to sum the counts of all the different named genes stored in the dictionary. For latter part, we look at both the dictionaries and count how many keys are there in both.\n"
   ]
  },
  {
   "cell_type": "code",
   "execution_count": 1,
   "metadata": {},
   "outputs": [
    {
     "name": "stdout",
     "output_type": "stream",
     "text": [
      "There are 3242 named protein-coding genes in S. enterica LT2\n",
      "No.of named genes which have synonyms in S. enterica CT18 are 1511\n"
     ]
    }
   ],
   "source": [
    "from Bio import SeqIO\n",
    "\n",
    "# read in the LT2 genome\n",
    "in_handle = open(\"S_enterica_LT2.gb\", \"r\")\n",
    "record_LT2 = SeqIO.read(in_handle, \"genbank\")\n",
    "in_handle.close()\n",
    "\n",
    "# read in the CT18 genome\n",
    "in_handle = open(\"S_enterica_CT18.gb\", \"r\")\n",
    "record_CT18 = SeqIO.read(in_handle, \"genbank\")\n",
    "in_handle.close()\n",
    "\n",
    "\n",
    "prot_names={}\n",
    "# your code goes here\n",
    "for feature in record_LT2.features:\n",
    "    if feature.type =='CDS': \n",
    "        #print(feature)\n",
    "        if 'gene' in feature.qualifiers:\n",
    "            #print(feature.qualifiers['gene'][0])\n",
    "            name = feature.qualifiers['gene'][0]\n",
    "            if name in prot_names:\n",
    "                prot_names[name]=prot_names[name]+1\n",
    "            else:\n",
    "                prot_names[name]=1\n",
    "                \n",
    "        \n",
    "#print(len(prot_names))\n",
    "print(\"There are\",sum(prot_names.values()),\"named protein-coding genes in S. enterica LT2\")\n",
    "\n",
    "prot_syn_names={}\n",
    "for feature in record_CT18.features:\n",
    "    if feature.type =='CDS': \n",
    "        #print(feature)\n",
    "        if 'gene_synonym' in feature.qualifiers:\n",
    "            name = feature.qualifiers['gene_synonym'][0]\n",
    "            if name in prot_syn_names:\n",
    "                prot_syn_names[name]=prot_syn_names[name]+1\n",
    "            else:\n",
    "                prot_syn_names[name]=1\n",
    "            #print(feature.qualifiers['gene_synonym'][0])\n",
    "\n",
    "#print(len(prot_syn_names))\n",
    "count = 0\n",
    "for i in prot_syn_names.keys():\n",
    "    if i in prot_names.keys():\n",
    "        count+=1\n",
    "print(\"No.of named genes which have synonyms in S. enterica CT18 are\",count)        "
   ]
  },
  {
   "cell_type": "markdown",
   "metadata": {},
   "source": [
    "No.of named protein-coding genes in S. enterica LT2 are 3242 and number of genes having synonyms in S. enterica CT18 is 1511."
   ]
  },
  {
   "cell_type": "markdown",
   "metadata": {},
   "source": [
    "**Problem 1b (20 pts):** How many of the named genes in LT2 without a synonym in CT18 have their product listed as \"hypothetical protein\"?"
   ]
  },
  {
   "cell_type": "markdown",
   "metadata": {},
   "source": [
    "Way we go about is we loop over features in LT2 and see whether the feature type is CDS. If it is, we look at gene in qualifiers within the feature as they contain the names of the genes. We have to check if it has synonym in CT18 by checking the keys in the dictionary which we made earlier. If the gene name does not have synonyms, then we see if the product in the qualifier is \"Hypothetical protein\". If it is we increase the count by 1. In the end we want the value of the count."
   ]
  },
  {
   "cell_type": "code",
   "execution_count": 9,
   "metadata": {},
   "outputs": [
    {
     "name": "stdout",
     "output_type": "stream",
     "text": [
      "No.of named genes in LT2 without synonym in CT18 having their product listed as hypothetical protiens are 244\n"
     ]
    }
   ],
   "source": [
    "# your code goes here\n",
    "\n",
    "count=0\n",
    "for feature in record_LT2.features:\n",
    "    if feature.type =='CDS': \n",
    "        #print(feature)\n",
    "        if 'gene' in feature.qualifiers:\n",
    "            #print(feature.qualifiers['gene'][0])\n",
    "            name = feature.qualifiers['gene'][0]\n",
    "            if name not in prot_syn_names:\n",
    "                if 'product' in feature.qualifiers:\n",
    "                    if feature.qualifiers['product'][0]=='hypothetical protein':\n",
    "                        count+=1\n",
    "                    #print(feature.qualifiers['product'][0])\n",
    "print(\"No.of named genes in LT2 without synonym in CT18 having their product listed as hypothetical protiens are\",count)                    "
   ]
  },
  {
   "cell_type": "markdown",
   "metadata": {},
   "source": [
    "As we can see there are"
   ]
  },
  {
   "cell_type": "markdown",
   "metadata": {},
   "source": [
    "## Problem 2\n",
    "\n",
    "**(50 pts)**\n",
    "\n",
    "Ask a question about the genomes from Problem 1 and then write python code that generates an answer. The question does not have to be conceptual, and it can be about only one of the two genomes or about the two genomes jointly.\n",
    "\n",
    "For full credit, the answer code must meet the following conditions:\n",
    "\n",
    "- contains at least one `for` loop\n",
    "- contains at least one `if` statement\n",
    "- uses at least one list or dictionary\n",
    "- uses at least one regular expression"
   ]
  },
  {
   "cell_type": "markdown",
   "metadata": {},
   "source": [
    "**Question:** *your question goes here*\n",
    "\n",
    "*Provide a brief introduction (1-2 paragraphs) explaining how you are going to answer the question.*"
   ]
  },
  {
   "cell_type": "code",
   "execution_count": 3,
   "metadata": {},
   "outputs": [
    {
     "name": "stdout",
     "output_type": "stream",
     "text": [
      "\n",
      "Total number of transcriptional regulator found: 45\n",
      "LysR family transcriptional regulator : 12\n",
      "LysR family transcriptional regulator SinR : 1\n",
      "AraC family transcriptional regulator : 11\n",
      "DeoR family transcriptional regulator : 6\n",
      "iron dependent repressor family transcriptional regulator : 1\n",
      "TetR family transcriptional regulator : 2\n",
      "GntR family transcriptional regulator : 7\n",
      "PadR family transcriptional regulator : 1\n",
      "BolA family transcriptional regulator : 1\n",
      "LacI family transcriptional regulator : 2\n",
      "LuxR family transcriptional regulator : 1\n"
     ]
    }
   ],
   "source": [
    "# your code goes \n",
    "\n",
    "from Bio import SeqIO\n",
    "import re\n",
    "# read in the LT2 genome\n",
    "in_handle = open(\"S_enterica_LT2.gb\", \"r\")\n",
    "record_LT2 = SeqIO.read(in_handle, \"genbank\")\n",
    "in_handle.close()\n",
    "\n",
    "# read in the CT18 genome\n",
    "in_handle = open(\"S_enterica_CT18.gb\", \"r\")\n",
    "record_CT18 = SeqIO.read(in_handle, \"genbank\")\n",
    "in_handle.close()\n",
    "\n",
    "\n",
    "# prot_names={}\n",
    "# count=0\n",
    "# your code goes here\n",
    "# for feature in record_CT18.features:\n",
    "#     print(feature)\n",
    "#     count+=1\n",
    "  #  if feature.type =='CDS': \n",
    "  #      print(feature)\n",
    "#         if 'gene' in feature.qualifiers:\n",
    "#             #print(feature.qualifiers['gene'][0])\n",
    "#             name = feature.qualifiers['gene'][0]\n",
    "#             if name in prot_names:\n",
    "#                 prot_names[name]=prot_names[name]+1\n",
    "#             else:\n",
    "#                 prot_names[name]=1\n",
    "#     if count==15:\n",
    "#         break        \n",
    "max_i = 5000 # number of protein-coding sequences we will analyze\n",
    "i = 0 # counter that will keep track of the number of CDSs found\n",
    "enzyme_count = 0 # number of enzymes found\n",
    "trans_reg = {}\n",
    "\n",
    "for feature in record_CT18.features:\n",
    "    if feature.type == 'CDS':\n",
    "        i += 1\n",
    "        \n",
    "        # we can only proceed if the CDS has a 'product' qualifier\n",
    "        if \"product\" in feature.qualifiers:\n",
    "            product = feature.qualifiers[\"product\"][0]\n",
    "            \n",
    "            # the heart of the matter. does the product string end in 'ase'\n",
    "            # or contain a word that ends in 'ase'?\n",
    "            match = re.search(r\"(.* family) transcriptional regulator\", product)\n",
    "            if match:\n",
    "                # yes, we found something that looks like an enzyme\n",
    "                #print(product)\n",
    "                if product in trans_reg:\n",
    "                    trans_reg[product]+=1\n",
    "                else:\n",
    "                    trans_reg[product]=1\n",
    "                enzyme_count += 1\n",
    "                            \n",
    "    # stop after max_i CDSs have been processed\n",
    "    if i >= max_i:\n",
    "        break\n",
    "\n",
    "print(\"\\nTotal number of transcriptional regulator found:\", enzyme_count)\n",
    "for i in trans_reg:\n",
    "    print(i,\":\",trans_reg[i])"
   ]
  },
  {
   "cell_type": "markdown",
   "metadata": {},
   "source": [
    "*Provide a brief conclusion (1-2 paragraphs) explaining what you have learned about your question from your code.*"
   ]
  },
  {
   "cell_type": "code",
   "execution_count": 4,
   "metadata": {},
   "outputs": [
    {
     "name": "stdout",
     "output_type": "stream",
     "text": [
      "\n",
      "Total number of transcriptional regulator found: 95\n",
      "putative LysR family transcriptional regulator : 27\n",
      "CaiF/GrlA family transcriptional regulator : 1\n",
      "DeoR family transcriptional regulator : 6\n",
      "AraC family transcriptional regulator : 15\n",
      "BolA family transcriptional regulator : 1\n",
      "TetR family transcriptional regulator : 5\n",
      "Fis family transcriptional regulator : 3\n",
      "AbrB family transcriptional regulator : 1\n",
      "LysR family transcriptional regulator : 5\n",
      "Crp/Fnr family transcriptional regulator : 1\n",
      "MarR family transcriptional regulator : 2\n",
      "MarR family transcriptional regulator for hemolysin : 1\n",
      "GntR family transcriptional regulator : 8\n",
      "XRE family transcriptional regulator : 2\n",
      "IclR family transcriptional regulator : 2\n",
      "LacI family transcriptional regulator : 2\n",
      "sigma-54-dependent Fis family transcriptional regulator : 1\n",
      "Spx/MgsR family transcriptional regulator : 1\n",
      "AlpA family transcriptional regulator : 1\n",
      "putative BolA family transcriptional regulator : 1\n",
      "DeoR/GlpR family transcriptional regulator : 1\n",
      "XylR family transcriptional regulator : 1\n",
      "SgrR family transcriptional regulator : 1\n",
      "CopG family transcriptional regulator : 1\n",
      "MerR family transcriptional regulator : 2\n",
      "LuxR family transcriptional regulator : 1\n",
      "MurR/RpiR family transcriptional regulator : 1\n",
      "putative LuxR/UhpA family transcriptional regulator : 1\n"
     ]
    }
   ],
   "source": [
    "max_i = 5000 # number of protein-coding sequences we will analyze\n",
    "i = 0 # counter that will keep track of the number of CDSs found\n",
    "enzyme_count = 0 # number of enzymes found\n",
    "trans_reg = {}\n",
    "\n",
    "for feature in record_LT2.features:\n",
    "    if feature.type == 'CDS':\n",
    "        i += 1\n",
    "        \n",
    "        # we can only proceed if the CDS has a 'product' qualifier\n",
    "        if \"product\" in feature.qualifiers:\n",
    "            product = feature.qualifiers[\"product\"][0]\n",
    "            \n",
    "            # the heart of the matter. does the product string end in 'ase'\n",
    "            # or contain a word that ends in 'ase'?\n",
    "            match = re.search(r\"(.* family) transcriptional regulator\", product)\n",
    "            if match:\n",
    "                # yes, we found something that looks like an enzyme\n",
    "                #print(product)\n",
    "                if product in trans_reg:\n",
    "                    trans_reg[product]+=1\n",
    "                else:\n",
    "                    trans_reg[product]=1\n",
    "                enzyme_count += 1\n",
    "                            \n",
    "    # stop after max_i CDSs have been processed\n",
    "    if i >= max_i:\n",
    "        break\n",
    "\n",
    "print(\"\\nTotal number of transcriptional regulator found:\", enzyme_count)\n",
    "for i in trans_reg:\n",
    "    print(i,\":\",trans_reg[i])"
   ]
  }
 ],
 "metadata": {
  "kernelspec": {
   "display_name": "Python 3",
   "language": "python",
   "name": "python3"
  },
  "language_info": {
   "codemirror_mode": {
    "name": "ipython",
    "version": 3
   },
   "file_extension": ".py",
   "mimetype": "text/x-python",
   "name": "python",
   "nbconvert_exporter": "python",
   "pygments_lexer": "ipython3",
   "version": "3.6.5"
  }
 },
 "nbformat": 4,
 "nbformat_minor": 2
}
