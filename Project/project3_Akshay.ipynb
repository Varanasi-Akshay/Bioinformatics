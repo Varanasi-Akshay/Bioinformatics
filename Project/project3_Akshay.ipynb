{
 "cells": [
  {
   "cell_type": "markdown",
   "metadata": {},
   "source": [
    "# Project 3\n",
    "\n",
    "*Akshay Kumar Varanasi (av32826)*\n",
    "\n",
    "\n",
    "## Instructions\n",
    "\n",
    "After completing this Jupyter notebook, please convert it to pdf and submit both the pdf and the original notebook on Canvas **no later than 4:00 pm on May 9, 2019**. The two documents will be graded jointly, so they must be consistent (as in, don't change the Jupyter notebook without also updating the converted pdf!).\n",
    "\n",
    "All results presented **must** have corresponding code. Any answers/results given without the corresponding python code that generated the result will be considered absent. All code reported in your final project document should work properly.\n",
    "\n",
    "Before submitting the Jupyter notebook part, please re-run all cells by clicking \"Kernel\" and selecting \"Restart & Run All.\"\n",
    "\n",
    "The project consists of two problems. For both problems, please follow these guidelines:\n",
    "\n",
    "- Final output needs to be nicely formatted and human readable. For example, if your result is a count, don't just print the value of the count, print \"The count is: ...\".\n",
    "- For each problem, limit your total code to less than 100 lines.\n",
    "- Write comments and explanatory text, so we understand what you are doing.\n",
    "- Do not print out large datasets, such as an entire genome, or a list of all genes in a genome, etc.\n",
    "- Verify that nothing of importance (code, comments, other text) is cut off in your final pdf. \n"
   ]
  },
  {
   "cell_type": "markdown",
   "metadata": {},
   "source": [
    "## Problem 1\n",
    "\n",
    "The bacteria called *Salmonella enterica* Typhimurium are pathogenic bacteria closely related to *E. coli*. They cause typhoid fever in humans. There are many different *S. enterica* Typhimurium strains, and here we will compare two such strains, LT2 and CT18. LT2 is the canonical strain that is most commonly used as a reference. CT18 is another widely used reference.\n",
    "\n",
    "Before we can work with these two genomes, we need to download them. Note: Running the next cell may take a few minutes."
   ]
  },
  {
   "cell_type": "code",
   "execution_count": 1,
   "metadata": {
    "scrolled": true
   },
   "outputs": [
    {
     "name": "stdout",
     "output_type": "stream",
     "text": [
      "Downloaded S. enterica LT2\n",
      "Downloaded S. enterica CT18\n"
     ]
    }
   ],
   "source": [
    "from Bio import Entrez\n",
    "Entrez.email = \"akshayvaranasi@utexas.edu\" # put your email here\n",
    "\n",
    "# Download S. enterica strain LT2 and write into file \"S_enterica_LT2.gb\":\n",
    "download_handle = Entrez.efetch(db=\"nucleotide\", id=\"NC_003197\", rettype=\"gbwithparts\", retmode=\"text\")\n",
    "out_handle = open(\"S_enterica_LT2.gb\", \"w\")\n",
    "out_handle.write(download_handle.read())\n",
    "download_handle.close()\n",
    "out_handle.close()\n",
    "print(\"Downloaded S. enterica LT2\")\n",
    "\n",
    "# Download S. enterica strain CT18 and write into file \"S_enterica_CT18.gb\":\n",
    "download_handle = Entrez.efetch(db=\"nucleotide\", id=\"NC_003198\", rettype=\"gbwithparts\", retmode=\"text\")\n",
    "out_handle = open(\"S_enterica_CT18.gb\", \"w\")\n",
    "out_handle.write(download_handle.read())\n",
    "download_handle.close()\n",
    "out_handle.close()\n",
    "print(\"Downloaded S. enterica CT18\")"
   ]
  },
  {
   "cell_type": "markdown",
   "metadata": {},
   "source": [
    "**Problem 1a (30 pts):** How many named protein-coding genes are in *S. enterica* LT2? And how many of these genes have synonyms in *S. enterica* CT18?\n",
    "\n",
    "Hint: Gene names have been defined for the LT2 strain. You can find these names in the \"gene\" qualifier of CDS features. When equivalent genes exist in CT18, they are listed under the \"gene_synonym\" qualifer of the CDS features. As an example, manually open the two genome files and look for the \"thrL\" gene in each genome."
   ]
  },
  {
   "cell_type": "markdown",
   "metadata": {},
   "source": [
    "**Answer:**\n",
    "After reading the two files using SeqIO, we loop over features in each record. In the loop, we look at feature type whether it is CDS or not. If it is CDS, we look for gene in qualifiers and store the names along with the count of them in a dictionary. Since total number of such named genes was asked in the first part, we need to sum the counts of all the different named genes stored in the dictionary. For later part, we look at both the dictionaries and see if there are names (keys) which are in both the dictionaries i.e we are checking if the gene has a synonym or not. After finding such names (keys), we add the counts of those names (keys) in the dictionary of named genes in LT2 as we need the count of how many of them have synonyms.\n"
   ]
  },
  {
   "cell_type": "code",
   "execution_count": 2,
   "metadata": {},
   "outputs": [
    {
     "name": "stdout",
     "output_type": "stream",
     "text": [
      "There are 3242 named protein-coding genes in S. enterica LT2\n",
      "No.of named genes which have synonyms in S. enterica CT18 are 1515\n"
     ]
    }
   ],
   "source": [
    "from Bio import SeqIO\n",
    "\n",
    "# read in the LT2 genome\n",
    "in_handle = open(\"S_enterica_LT2.gb\", \"r\")\n",
    "record_LT2 = SeqIO.read(in_handle, \"genbank\")\n",
    "in_handle.close()\n",
    "\n",
    "# read in the CT18 genome\n",
    "in_handle = open(\"S_enterica_CT18.gb\", \"r\")\n",
    "record_CT18 = SeqIO.read(in_handle, \"genbank\")\n",
    "in_handle.close()\n",
    "\n",
    "# Dictionary to keep the count of gene names in LT2\n",
    "prot_names={}\n",
    "\n",
    "\n",
    "for feature in record_LT2.features:                    # Loop over the features\n",
    "    if feature.type =='CDS':                           # Check the feature type is CDS or not\n",
    "        if 'gene' in feature.qualifiers:               # Check if gene is in qualifiers   \n",
    "            name = feature.qualifiers['gene'][0]       # name of the genes\n",
    "            if name in prot_names:                     # check if the name is already in the dictionary\n",
    "                prot_names[name]=prot_names[name]+1    # if it is then increase the count\n",
    "            else:\n",
    "                prot_names[name]=1                     # else initialize it with 1\n",
    "                \n",
    "        \n",
    "print(\"There are\",sum(prot_names.values()),\"named protein-coding genes in S. enterica LT2\")\n",
    "\n",
    "\n",
    "# Dictionary to keep the count of gene names in CT18\n",
    "prot_syn_names={}\n",
    "\n",
    "\n",
    "for feature in record_CT18.features:                           # Loop over the features\n",
    "    if feature.type =='CDS':                                   # Check the feature type is CDS or not\n",
    "        if 'gene_synonym' in feature.qualifiers:               # Check if gene is in qualifiers   \n",
    "            name = feature.qualifiers['gene_synonym'][0]       # name of the genes\n",
    "            if name in prot_syn_names:                         # check if the name is already in the dictionary\n",
    "                prot_syn_names[name]=prot_syn_names[name]+1    # if it is then increase the count\n",
    "            else:\n",
    "                prot_syn_names[name]=1                         # else initialize it with 1\n",
    "\n",
    "count1 = 0\n",
    "for i in prot_names.keys():\n",
    "    if i in prot_syn_names.keys(): # checking ig the same name is in other dictionary\n",
    "        count1+=prot_names[i]      # if it is then add the count of that name in the original dictionary   \n",
    "\n",
    "print(\"No.of named genes which have synonyms in S. enterica CT18 are\",count1)   \n"
   ]
  },
  {
   "cell_type": "markdown",
   "metadata": {},
   "source": [
    "No.of named protein-coding genes in S. enterica LT2 are 3242 and number of genes having synonyms in S. enterica CT18 is 1515."
   ]
  },
  {
   "cell_type": "markdown",
   "metadata": {},
   "source": [
    "**Problem 1b (20 pts):** How many of the named genes in LT2 without a synonym in CT18 have their product listed as \"hypothetical protein\"?"
   ]
  },
  {
   "cell_type": "markdown",
   "metadata": {},
   "source": [
    "**Answer:**\n",
    "Way we go about is we loop over features in LT2 and see whether the feature type is CDS. If it is, we look at gene in qualifiers within the feature as they contain the names of the genes and then we check if it has synonym in CT18 by checking the names (keys) in the dictionary which we made earlier. If the gene name does not have synonyms, then we see if the product in the qualifier is \"Hypothetical protein\" or not. If it is \"Hypothetical protein\" we increase the count by 1. In the end, we want the value of the count as it is the number of named genes in LT2 without a synonym in CT18 which have their product listed as hypothetical protein."
   ]
  },
  {
   "cell_type": "code",
   "execution_count": 3,
   "metadata": {},
   "outputs": [
    {
     "name": "stdout",
     "output_type": "stream",
     "text": [
      "No.of named genes in LT2 without synonym in CT18 having their product listed as hypothetical proteins are 244\n"
     ]
    }
   ],
   "source": [
    "\n",
    "# initialize the count\n",
    "count=0\n",
    "\n",
    "\n",
    "for feature in record_LT2.features:                             # loop over the features\n",
    "    if feature.type =='CDS':                                    # check if feature type is CDS  \n",
    "        if 'gene' in feature.qualifiers:                        # check if gene field is there\n",
    "            name = feature.qualifiers['gene'][0]                #  name of the gene    \n",
    "            if name not in prot_syn_names:                      # check if it has synonym\n",
    "                if 'product' in feature.qualifiers:             # check for product field\n",
    "                    if feature.qualifiers['product'][0]=='hypothetical protein': # check if it is hypothetical protein\n",
    "                        count+=1                                                 # increase the count\n",
    "                        \n",
    "                        \n",
    "print(\"No.of named genes in LT2 without synonym in CT18 having their product listed as hypothetical proteins are\",count)                    "
   ]
  },
  {
   "cell_type": "markdown",
   "metadata": {},
   "source": [
    "As we can see there are 244 named genes which have product listed as hypothetical proteins  "
   ]
  },
  {
   "cell_type": "markdown",
   "metadata": {},
   "source": [
    "## Problem 2\n",
    "\n",
    "**(50 pts)**\n",
    "\n",
    "Ask a question about the genomes from Problem 1 and then write python code that generates an answer. The question does not have to be conceptual, and it can be about only one of the two genomes or about the two genomes jointly.\n",
    "\n",
    "For full credit, the answer code must meet the following conditions:\n",
    "\n",
    "- contains at least one `for` loop\n",
    "- contains at least one `if` statement\n",
    "- uses at least one list or dictionary\n",
    "- uses at least one regular expression"
   ]
  },
  {
   "cell_type": "markdown",
   "metadata": {},
   "source": [
    "**Question:** .\n",
    "There are different types of proteins listed in \"product\" field like binding proteins and there are various types of binding proteins. We are interested in DNA,RNA and ATP related binding proteins as they bind them.\n",
    "\n",
    "How many DNA related binding proteins are in *S. enterica* LT2 and *S. enterica* CT18? Similary find out how many RNA and ATP related binding proteins are in both?\n",
    "\n",
    "\n",
    "**Answer:** Since we want binding proteins related to DNA,RNA and ATP, we first search for \"binding protein\" in \"Product\" field with feature type \"CDS\". If we find it, then we search for \"DNA\" or \"RNA\" or \"ATP\" terms in the \"Product\" field and increase the count of each term stored in the dictionary if we find them. This will give the count of binding proteins related to each DNA, RNA and ATP.\n"
   ]
  },
  {
   "cell_type": "code",
   "execution_count": 4,
   "metadata": {},
   "outputs": [
    {
     "name": "stdout",
     "output_type": "stream",
     "text": [
      "No.of binding proteins related to DNA in LT2 is 10\n",
      "No.of binding proteins related to RNA in LT2 is 3\n",
      "No.of binding proteins related to ATP in LT2 is 64\n"
     ]
    }
   ],
   "source": [
    "# importing the re library\n",
    "import re\n",
    "\n",
    "# Dictionary containing counts of each term\n",
    "protein_count={'DNA':0,'RNA':0,'ATP':0}\n",
    "\n",
    "\n",
    "for feature in record_LT2.features:\n",
    "    if feature.type==\"CDS\":\n",
    "        if \"product\" in feature.qualifiers: # see if \"product\" is there or not.\n",
    "            product = feature.qualifiers[\"product\"][0]\n",
    "            match = re.search(r\"binding protein\", product) # search for binding protein\n",
    "            if match:\n",
    "                match2 = re.search(r\"((DNA|RNA)|ATP)\", product) # search for terms DNA or RNA or ATP \n",
    "                if match2:\n",
    "                    protein_count[match2.group()]+=1 #increase the count of the respective term\n",
    "for i in protein_count:\n",
    "    print(\"No.of binding proteins related to\",i,\"in LT2 is\",protein_count[i])\n"
   ]
  },
  {
   "cell_type": "code",
   "execution_count": 5,
   "metadata": {},
   "outputs": [
    {
     "name": "stdout",
     "output_type": "stream",
     "text": [
      "No.of binding proteins related to DNA in CT18 is 23\n",
      "No.of binding proteins related to RNA in CT18 is 3\n",
      "No.of binding proteins related to ATP in CT18 is 77\n"
     ]
    }
   ],
   "source": [
    "# Dictionary containing counts of each term\n",
    "protein_count={'DNA':0,'RNA':0,'ATP':0}\n",
    "\n",
    "for feature in record_CT18.features:\n",
    "    if feature.type==\"CDS\":\n",
    "        if \"product\" in feature.qualifiers: # see if \"product\" is there or not.\n",
    "            product = feature.qualifiers[\"product\"][0]\n",
    "            match = re.search(r\"binding protein\", product) # search for binding protein\n",
    "            if match:\n",
    "                match2 = re.search(r\"((DNA|RNA)|ATP)\", product) # search for terms DNA or RNA or ATP \n",
    "                \n",
    "                if match2:\n",
    "                    protein_count[match2.group()]+=1 #increase the count of the respective term\n",
    "for i in protein_count:\n",
    "    print(\"No.of binding proteins related to\",i,\"in CT18 is\",protein_count[i])"
   ]
  },
  {
   "cell_type": "markdown",
   "metadata": {},
   "source": [
    "From the result, we find that there are 10 \"DNA\", 3 \"RNA\" and 64 \"ATP\" related binding proteins in *S. enterica* LT2 and there are 23 \"DNA\", 3 \"RNA\" and 77 \"ATP\" related binding proteins in *S. enterica* CT18. So we conclude that, there are more such binding proteins in CT18 than LT2 genome."
   ]
  }
 ],
 "metadata": {
  "kernelspec": {
   "display_name": "Python 3",
   "language": "python",
   "name": "python3"
  },
  "language_info": {
   "codemirror_mode": {
    "name": "ipython",
    "version": 3
   },
   "file_extension": ".py",
   "mimetype": "text/x-python",
   "name": "python",
   "nbconvert_exporter": "python",
   "pygments_lexer": "ipython3",
   "version": "3.6.5"
  }
 },
 "nbformat": 4,
 "nbformat_minor": 2
}
